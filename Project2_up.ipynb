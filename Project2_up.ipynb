{
 "cells": [
  {
   "cell_type": "code",
   "execution_count": 1,
   "metadata": {},
   "outputs": [],
   "source": [
    "import pandas as pd\n",
    "import numpy as np\n",
    "import hvplot\n",
    "import plotly.graph_objects as go\n",
    "import warnings\n",
    "warnings.filterwarnings(\"ignore\")\n",
    "from sklearn.ensemble import RandomForestRegressor\n",
    "from sklearn.ensemble import GradientBoostingRegressor\n",
    "from sklearn.tree import DecisionTreeRegressor\n"
   ]
  },
  {
   "cell_type": "code",
   "execution_count": null,
   "metadata": {
    "collapsed": true,
    "jupyter": {
     "outputs_hidden": true
    }
   },
   "outputs": [],
   "source": []
  },
  {
   "cell_type": "code",
   "execution_count": null,
   "metadata": {},
   "outputs": [],
   "source": []
  },
  {
   "cell_type": "code",
   "execution_count": null,
   "metadata": {},
   "outputs": [],
   "source": []
  },
  {
   "cell_type": "code",
   "execution_count": null,
   "metadata": {},
   "outputs": [],
   "source": []
  },
  {
   "cell_type": "code",
   "execution_count": null,
   "metadata": {},
   "outputs": [],
   "source": []
  },
  {
   "cell_type": "code",
   "execution_count": null,
   "metadata": {},
   "outputs": [],
   "source": []
  },
  {
   "cell_type": "code",
   "execution_count": null,
   "metadata": {},
   "outputs": [],
   "source": []
  },
  {
   "cell_type": "code",
   "execution_count": 2,
   "metadata": {},
   "outputs": [],
   "source": [
    "data = pd.read_csv(\"NYPD_shooting.csv\")\n",
    "data_year_tod = pd.read_csv(\"Year_To_Date_.csv\")"
   ]
  },
  {
   "cell_type": "code",
   "execution_count": 3,
   "metadata": {},
   "outputs": [
    {
     "name": "stdout",
     "output_type": "stream",
     "text": [
      "In 2020, there are 664 incidents.\n"
     ]
    }
   ],
   "source": [
    "print(f\"In 2020, there are {data_year_tod.shape[0]} incidents.\")"
   ]
  },
  {
   "cell_type": "code",
   "execution_count": 4,
   "metadata": {},
   "outputs": [
    {
     "name": "stdout",
     "output_type": "stream",
     "text": [
      "Before 2020, there are 21626 incidents.\n"
     ]
    }
   ],
   "source": [
    "print(f\"Before 2020, there are {data.shape[0]} incidents.\")"
   ]
  },
  {
   "cell_type": "code",
   "execution_count": 5,
   "metadata": {},
   "outputs": [
    {
     "name": "stdout",
     "output_type": "stream",
     "text": [
      "After combining two datasets, there are 22290 incidents in total.\n"
     ]
    }
   ],
   "source": [
    "#combined two data sets( 2006 - 2020)\n",
    "df = pd.concat([data,data_year_tod],axis = 0)\n",
    "print(f\"After combining two datasets, there are {df.shape[0]} incidents in total.\")"
   ]
  },
  {
   "cell_type": "code",
   "execution_count": null,
   "metadata": {},
   "outputs": [],
   "source": []
  },
  {
   "cell_type": "code",
   "execution_count": 6,
   "metadata": {},
   "outputs": [
    {
     "data": {
      "text/plain": [
       "Index(['BORO', 'INCIDENT_KEY', 'JURISDICTION_CODE', 'LOCATION_DESC',\n",
       "       'Latitude', 'Lon_Lat', 'Longitude', 'New Georeferenced Column',\n",
       "       'OCCUR_DATE', 'OCCUR_TIME', 'PERP_AGE_GROUP', 'PERP_RACE', 'PERP_SEX',\n",
       "       'PRECINCT', 'STATISTICAL_MURDER_FLAG', 'VIC_AGE_GROUP', 'VIC_RACE',\n",
       "       'VIC_SEX', 'X_COORD_CD', 'Y_COORD_CD'],\n",
       "      dtype='object')"
      ]
     },
     "execution_count": 6,
     "metadata": {},
     "output_type": "execute_result"
    }
   ],
   "source": [
    "df.columns"
   ]
  },
  {
   "cell_type": "code",
   "execution_count": 7,
   "metadata": {},
   "outputs": [],
   "source": [
    "#Drop columns\n",
    "df.drop(columns= ['JURISDICTION_CODE', 'LOCATION_DESC','Latitude', 'Lon_Lat', 'Longitude', \n",
    "                  'New Georeferenced Column','PRECINCT','PERP_AGE_GROUP', 'PERP_RACE', 'PERP_SEX','X_COORD_CD', \n",
    "                  'Y_COORD_CD'],inplace = True)"
   ]
  },
  {
   "cell_type": "code",
   "execution_count": 8,
   "metadata": {},
   "outputs": [
    {
     "data": {
      "text/plain": [
       "Index(['BORO', 'INCIDENT_KEY', 'OCCUR_DATE', 'OCCUR_TIME',\n",
       "       'STATISTICAL_MURDER_FLAG', 'VIC_AGE_GROUP', 'VIC_RACE', 'VIC_SEX'],\n",
       "      dtype='object')"
      ]
     },
     "execution_count": 8,
     "metadata": {},
     "output_type": "execute_result"
    }
   ],
   "source": [
    "df.columns"
   ]
  },
  {
   "cell_type": "code",
   "execution_count": 9,
   "metadata": {},
   "outputs": [
    {
     "data": {
      "text/html": [
       "<div>\n",
       "<style scoped>\n",
       "    .dataframe tbody tr th:only-of-type {\n",
       "        vertical-align: middle;\n",
       "    }\n",
       "\n",
       "    .dataframe tbody tr th {\n",
       "        vertical-align: top;\n",
       "    }\n",
       "\n",
       "    .dataframe thead th {\n",
       "        text-align: right;\n",
       "    }\n",
       "</style>\n",
       "<table border=\"1\" class=\"dataframe\">\n",
       "  <thead>\n",
       "    <tr style=\"text-align: right;\">\n",
       "      <th></th>\n",
       "      <th>BORO</th>\n",
       "      <th>INCIDENT_KEY</th>\n",
       "      <th>OCCUR_DATE</th>\n",
       "      <th>OCCUR_TIME</th>\n",
       "      <th>STATISTICAL_MURDER_FLAG</th>\n",
       "      <th>VIC_AGE_GROUP</th>\n",
       "      <th>VIC_RACE</th>\n",
       "      <th>VIC_SEX</th>\n",
       "    </tr>\n",
       "  </thead>\n",
       "  <tbody>\n",
       "    <tr>\n",
       "      <th>0</th>\n",
       "      <td>QUEENS</td>\n",
       "      <td>74146165</td>\n",
       "      <td>08/14/2010</td>\n",
       "      <td>3:11:00</td>\n",
       "      <td>False</td>\n",
       "      <td>25-44</td>\n",
       "      <td>BLACK</td>\n",
       "      <td>M</td>\n",
       "    </tr>\n",
       "    <tr>\n",
       "      <th>1</th>\n",
       "      <td>BROOKLYN</td>\n",
       "      <td>66928846</td>\n",
       "      <td>10/17/2009</td>\n",
       "      <td>18:03:00</td>\n",
       "      <td>True</td>\n",
       "      <td>45-64</td>\n",
       "      <td>BLACK</td>\n",
       "      <td>M</td>\n",
       "    </tr>\n",
       "    <tr>\n",
       "      <th>2</th>\n",
       "      <td>BROOKLYN</td>\n",
       "      <td>29114164</td>\n",
       "      <td>05/18/2007</td>\n",
       "      <td>23:00:00</td>\n",
       "      <td>False</td>\n",
       "      <td>25-44</td>\n",
       "      <td>BLACK</td>\n",
       "      <td>M</td>\n",
       "    </tr>\n",
       "    <tr>\n",
       "      <th>3</th>\n",
       "      <td>BROOKLYN</td>\n",
       "      <td>85180336</td>\n",
       "      <td>06/09/2012</td>\n",
       "      <td>17:15:00</td>\n",
       "      <td>False</td>\n",
       "      <td>25-44</td>\n",
       "      <td>BLACK</td>\n",
       "      <td>M</td>\n",
       "    </tr>\n",
       "    <tr>\n",
       "      <th>4</th>\n",
       "      <td>BRONX</td>\n",
       "      <td>73405770</td>\n",
       "      <td>06/27/2010</td>\n",
       "      <td>4:14:00</td>\n",
       "      <td>False</td>\n",
       "      <td>25-44</td>\n",
       "      <td>BLACK</td>\n",
       "      <td>M</td>\n",
       "    </tr>\n",
       "  </tbody>\n",
       "</table>\n",
       "</div>"
      ],
      "text/plain": [
       "       BORO  INCIDENT_KEY  OCCUR_DATE OCCUR_TIME  STATISTICAL_MURDER_FLAG  \\\n",
       "0    QUEENS      74146165  08/14/2010    3:11:00                    False   \n",
       "1  BROOKLYN      66928846  10/17/2009   18:03:00                     True   \n",
       "2  BROOKLYN      29114164  05/18/2007   23:00:00                    False   \n",
       "3  BROOKLYN      85180336  06/09/2012   17:15:00                    False   \n",
       "4     BRONX      73405770  06/27/2010    4:14:00                    False   \n",
       "\n",
       "  VIC_AGE_GROUP VIC_RACE VIC_SEX  \n",
       "0         25-44    BLACK       M  \n",
       "1         45-64    BLACK       M  \n",
       "2         25-44    BLACK       M  \n",
       "3         25-44    BLACK       M  \n",
       "4         25-44    BLACK       M  "
      ]
     },
     "execution_count": 9,
     "metadata": {},
     "output_type": "execute_result"
    }
   ],
   "source": [
    "df.head()"
   ]
  },
  {
   "cell_type": "code",
   "execution_count": 10,
   "metadata": {},
   "outputs": [],
   "source": [
    "miss_check = pd.DataFrame({\"Number of Missing\":df.isnull().sum(),\n",
    "                           \"Percentage of Missing\":df.isnull().sum()/df.shape[0]})"
   ]
  },
  {
   "cell_type": "code",
   "execution_count": 11,
   "metadata": {},
   "outputs": [
    {
     "data": {
      "text/html": [
       "<div>\n",
       "<style scoped>\n",
       "    .dataframe tbody tr th:only-of-type {\n",
       "        vertical-align: middle;\n",
       "    }\n",
       "\n",
       "    .dataframe tbody tr th {\n",
       "        vertical-align: top;\n",
       "    }\n",
       "\n",
       "    .dataframe thead th {\n",
       "        text-align: right;\n",
       "    }\n",
       "</style>\n",
       "<table border=\"1\" class=\"dataframe\">\n",
       "  <thead>\n",
       "    <tr style=\"text-align: right;\">\n",
       "      <th></th>\n",
       "      <th>Number of Missing</th>\n",
       "      <th>Percentage of Missing</th>\n",
       "    </tr>\n",
       "  </thead>\n",
       "  <tbody>\n",
       "    <tr>\n",
       "      <th>BORO</th>\n",
       "      <td>0</td>\n",
       "      <td>0.0</td>\n",
       "    </tr>\n",
       "    <tr>\n",
       "      <th>INCIDENT_KEY</th>\n",
       "      <td>0</td>\n",
       "      <td>0.0</td>\n",
       "    </tr>\n",
       "    <tr>\n",
       "      <th>OCCUR_DATE</th>\n",
       "      <td>0</td>\n",
       "      <td>0.0</td>\n",
       "    </tr>\n",
       "    <tr>\n",
       "      <th>OCCUR_TIME</th>\n",
       "      <td>0</td>\n",
       "      <td>0.0</td>\n",
       "    </tr>\n",
       "    <tr>\n",
       "      <th>STATISTICAL_MURDER_FLAG</th>\n",
       "      <td>0</td>\n",
       "      <td>0.0</td>\n",
       "    </tr>\n",
       "    <tr>\n",
       "      <th>VIC_AGE_GROUP</th>\n",
       "      <td>0</td>\n",
       "      <td>0.0</td>\n",
       "    </tr>\n",
       "    <tr>\n",
       "      <th>VIC_RACE</th>\n",
       "      <td>0</td>\n",
       "      <td>0.0</td>\n",
       "    </tr>\n",
       "    <tr>\n",
       "      <th>VIC_SEX</th>\n",
       "      <td>0</td>\n",
       "      <td>0.0</td>\n",
       "    </tr>\n",
       "  </tbody>\n",
       "</table>\n",
       "</div>"
      ],
      "text/plain": [
       "                         Number of Missing  Percentage of Missing\n",
       "BORO                                     0                    0.0\n",
       "INCIDENT_KEY                             0                    0.0\n",
       "OCCUR_DATE                               0                    0.0\n",
       "OCCUR_TIME                               0                    0.0\n",
       "STATISTICAL_MURDER_FLAG                  0                    0.0\n",
       "VIC_AGE_GROUP                            0                    0.0\n",
       "VIC_RACE                                 0                    0.0\n",
       "VIC_SEX                                  0                    0.0"
      ]
     },
     "execution_count": 11,
     "metadata": {},
     "output_type": "execute_result"
    }
   ],
   "source": [
    "miss_check"
   ]
  },
  {
   "cell_type": "code",
   "execution_count": 12,
   "metadata": {},
   "outputs": [
    {
     "data": {
      "text/plain": [
       "(22290, 8)"
      ]
     },
     "execution_count": 12,
     "metadata": {},
     "output_type": "execute_result"
    }
   ],
   "source": [
    "df.shape"
   ]
  },
  {
   "cell_type": "code",
   "execution_count": 13,
   "metadata": {},
   "outputs": [],
   "source": [
    "miss_drop = df.dropna()"
   ]
  },
  {
   "cell_type": "code",
   "execution_count": 14,
   "metadata": {},
   "outputs": [],
   "source": [
    "# VIC_AGE transforming\n",
    "miss_drop['VIC_AGE_18'] = np.where(np.array(miss_drop['VIC_AGE_GROUP']) == \"<18\",1,0)\n",
    "miss_drop['VIC_AGE_18_24'] = np.where(np.array(miss_drop['VIC_AGE_GROUP']) == \"18-24\",1,0)\n",
    "miss_drop['VIC_AGE_25_44'] = np.where(np.array(miss_drop['VIC_AGE_GROUP']) == \"25-44\",1,0)\n",
    "miss_drop['VIC_AGE_45_64'] = np.where(np.array(miss_drop['VIC_AGE_GROUP']) == \"45-64\",1,0)\n",
    "miss_drop['VIC_AGE_65'] = np.where(np.array(miss_drop['VIC_AGE_GROUP']) == \"65+\",1,0)"
   ]
  },
  {
   "cell_type": "code",
   "execution_count": 15,
   "metadata": {},
   "outputs": [],
   "source": [
    "# victim gender transforming\n",
    "miss_drop['VIC_SEX_MALE'] = np.where(np.array(miss_drop['VIC_SEX']) == \"M\",1,0)\n",
    "miss_drop['VIC_SEX_FEMALE'] = np.where(np.array(miss_drop['VIC_SEX']) == \"F\",1,0)"
   ]
  },
  {
   "cell_type": "code",
   "execution_count": 16,
   "metadata": {},
   "outputs": [
    {
     "data": {
      "text/plain": [
       "array(['BLACK', 'BLACK HISPANIC', 'WHITE HISPANIC', 'WHITE',\n",
       "       'ASIAN / PACIFIC ISLANDER', 'UNKNOWN',\n",
       "       'AMERICAN INDIAN/ALASKAN NATIVE'], dtype=object)"
      ]
     },
     "execution_count": 16,
     "metadata": {},
     "output_type": "execute_result"
    }
   ],
   "source": [
    "miss_drop.VIC_RACE.unique()"
   ]
  },
  {
   "cell_type": "code",
   "execution_count": 17,
   "metadata": {},
   "outputs": [],
   "source": [
    "# victim race transforming\n",
    "miss_drop['VIC_RACE_BLACK'] = np.where(np.array(miss_drop['VIC_RACE']) == \"BLACK\",1,0)\n",
    "miss_drop['VIC_RACE_BLACK_HIS'] = np.where(np.array(miss_drop['VIC_RACE']) == 'BLACK HISPANIC',1,0)\n",
    "miss_drop['VIC_RACE_WHITE_HIS'] = np.where(np.array(miss_drop['VIC_RACE']) == 'WHITE HISPANIC',1,0)\n",
    "miss_drop['VIC_RACE_ASIAN_PAR'] = np.where(np.array(miss_drop['VIC_RACE']) == 'ASIAN / PACIFIC ISLANDER',1,0)\n",
    "miss_drop['VIC_RACE_AMERICAN_ALA'] = np.where(np.array(miss_drop['VIC_RACE']) == 'AMERICAN INDIAN/ALASKAN NATIVE',1,0)"
   ]
  },
  {
   "cell_type": "code",
   "execution_count": 18,
   "metadata": {},
   "outputs": [
    {
     "data": {
      "text/plain": [
       "array(['QUEENS', 'BROOKLYN', 'BRONX', 'MANHATTAN', 'STATEN ISLAND'],\n",
       "      dtype=object)"
      ]
     },
     "execution_count": 18,
     "metadata": {},
     "output_type": "execute_result"
    }
   ],
   "source": [
    "miss_drop.BORO.unique()"
   ]
  },
  {
   "cell_type": "code",
   "execution_count": 19,
   "metadata": {},
   "outputs": [],
   "source": [
    "#  boro transforming\n",
    "miss_drop['BORO_QUEENS'] = np.where(np.array(miss_drop['BORO']) == 'QUEENS',1,0)\n",
    "miss_drop['BORO_BROOKLYN'] = np.where(np.array(miss_drop['BORO']) == 'BROOKLYN',1,0)\n",
    "miss_drop['BORO_BRONX'] = np.where(np.array(miss_drop['BORO']) == 'BRONX',1,0)\n",
    "miss_drop['BORO_MANHATTAN'] = np.where(np.array(miss_drop['BORO']) == 'MANHATTAN',1,0)\n",
    "miss_drop['BORO_STATEN'] = np.where(np.array(miss_drop['BORO']) == 'STATEN ISLAND',1,0)"
   ]
  },
  {
   "cell_type": "code",
   "execution_count": 20,
   "metadata": {},
   "outputs": [],
   "source": [
    "#Date processing and get Year, Month, Day\n",
    "import datetime as dt\n",
    "miss_drop.OCCUR_DATE = pd.to_datetime(miss_drop.OCCUR_DATE)\n",
    "miss_drop['OCCUR_YEAR'] = miss_drop.OCCUR_DATE.dt.year\n",
    "miss_drop['OCCUR_MONTH'] = miss_drop.OCCUR_DATE.dt.month\n",
    "miss_drop['OCCUR_Day'] = miss_drop.OCCUR_DATE.dt.day\n",
    "miss_drop['OCCUR_Hour'] = pd.to_datetime(miss_drop.OCCUR_TIME).dt.hour"
   ]
  },
  {
   "cell_type": "code",
   "execution_count": 21,
   "metadata": {},
   "outputs": [],
   "source": [
    "full_data = miss_drop.copy()"
   ]
  },
  {
   "cell_type": "code",
   "execution_count": 22,
   "metadata": {},
   "outputs": [
    {
     "data": {
      "text/plain": [
       "Index(['BORO', 'INCIDENT_KEY', 'OCCUR_DATE', 'OCCUR_TIME',\n",
       "       'STATISTICAL_MURDER_FLAG', 'VIC_AGE_GROUP', 'VIC_RACE', 'VIC_SEX',\n",
       "       'VIC_AGE_18', 'VIC_AGE_18_24', 'VIC_AGE_25_44', 'VIC_AGE_45_64',\n",
       "       'VIC_AGE_65', 'VIC_SEX_MALE', 'VIC_SEX_FEMALE', 'VIC_RACE_BLACK',\n",
       "       'VIC_RACE_BLACK_HIS', 'VIC_RACE_WHITE_HIS', 'VIC_RACE_ASIAN_PAR',\n",
       "       'VIC_RACE_AMERICAN_ALA', 'BORO_QUEENS', 'BORO_BROOKLYN', 'BORO_BRONX',\n",
       "       'BORO_MANHATTAN', 'BORO_STATEN', 'OCCUR_YEAR', 'OCCUR_MONTH',\n",
       "       'OCCUR_Day', 'OCCUR_Hour'],\n",
       "      dtype='object')"
      ]
     },
     "execution_count": 22,
     "metadata": {},
     "output_type": "execute_result"
    }
   ],
   "source": [
    "full_data.columns"
   ]
  },
  {
   "cell_type": "code",
   "execution_count": 23,
   "metadata": {},
   "outputs": [],
   "source": [
    "#drop columns\n",
    "full_data = full_data.drop(columns=['STATISTICAL_MURDER_FLAG', 'VIC_AGE_GROUP', 'VIC_RACE', 'VIC_SEX','BORO'])"
   ]
  },
  {
   "cell_type": "code",
   "execution_count": 24,
   "metadata": {},
   "outputs": [
    {
     "data": {
      "text/html": [
       "<div>\n",
       "<style scoped>\n",
       "    .dataframe tbody tr th:only-of-type {\n",
       "        vertical-align: middle;\n",
       "    }\n",
       "\n",
       "    .dataframe tbody tr th {\n",
       "        vertical-align: top;\n",
       "    }\n",
       "\n",
       "    .dataframe thead th {\n",
       "        text-align: right;\n",
       "    }\n",
       "</style>\n",
       "<table border=\"1\" class=\"dataframe\">\n",
       "  <thead>\n",
       "    <tr style=\"text-align: right;\">\n",
       "      <th></th>\n",
       "      <th>INCIDENT_KEY</th>\n",
       "      <th>OCCUR_DATE</th>\n",
       "      <th>OCCUR_TIME</th>\n",
       "      <th>VIC_AGE_18</th>\n",
       "      <th>VIC_AGE_18_24</th>\n",
       "      <th>VIC_AGE_25_44</th>\n",
       "      <th>VIC_AGE_45_64</th>\n",
       "      <th>VIC_AGE_65</th>\n",
       "      <th>VIC_SEX_MALE</th>\n",
       "      <th>VIC_SEX_FEMALE</th>\n",
       "      <th>...</th>\n",
       "      <th>VIC_RACE_AMERICAN_ALA</th>\n",
       "      <th>BORO_QUEENS</th>\n",
       "      <th>BORO_BROOKLYN</th>\n",
       "      <th>BORO_BRONX</th>\n",
       "      <th>BORO_MANHATTAN</th>\n",
       "      <th>BORO_STATEN</th>\n",
       "      <th>OCCUR_YEAR</th>\n",
       "      <th>OCCUR_MONTH</th>\n",
       "      <th>OCCUR_Day</th>\n",
       "      <th>OCCUR_Hour</th>\n",
       "    </tr>\n",
       "  </thead>\n",
       "  <tbody>\n",
       "    <tr>\n",
       "      <th>0</th>\n",
       "      <td>74146165</td>\n",
       "      <td>2010-08-14</td>\n",
       "      <td>3:11:00</td>\n",
       "      <td>0</td>\n",
       "      <td>0</td>\n",
       "      <td>1</td>\n",
       "      <td>0</td>\n",
       "      <td>0</td>\n",
       "      <td>1</td>\n",
       "      <td>0</td>\n",
       "      <td>...</td>\n",
       "      <td>0</td>\n",
       "      <td>1</td>\n",
       "      <td>0</td>\n",
       "      <td>0</td>\n",
       "      <td>0</td>\n",
       "      <td>0</td>\n",
       "      <td>2010</td>\n",
       "      <td>8</td>\n",
       "      <td>14</td>\n",
       "      <td>3</td>\n",
       "    </tr>\n",
       "    <tr>\n",
       "      <th>1</th>\n",
       "      <td>66928846</td>\n",
       "      <td>2009-10-17</td>\n",
       "      <td>18:03:00</td>\n",
       "      <td>0</td>\n",
       "      <td>0</td>\n",
       "      <td>0</td>\n",
       "      <td>1</td>\n",
       "      <td>0</td>\n",
       "      <td>1</td>\n",
       "      <td>0</td>\n",
       "      <td>...</td>\n",
       "      <td>0</td>\n",
       "      <td>0</td>\n",
       "      <td>1</td>\n",
       "      <td>0</td>\n",
       "      <td>0</td>\n",
       "      <td>0</td>\n",
       "      <td>2009</td>\n",
       "      <td>10</td>\n",
       "      <td>17</td>\n",
       "      <td>18</td>\n",
       "    </tr>\n",
       "    <tr>\n",
       "      <th>2</th>\n",
       "      <td>29114164</td>\n",
       "      <td>2007-05-18</td>\n",
       "      <td>23:00:00</td>\n",
       "      <td>0</td>\n",
       "      <td>0</td>\n",
       "      <td>1</td>\n",
       "      <td>0</td>\n",
       "      <td>0</td>\n",
       "      <td>1</td>\n",
       "      <td>0</td>\n",
       "      <td>...</td>\n",
       "      <td>0</td>\n",
       "      <td>0</td>\n",
       "      <td>1</td>\n",
       "      <td>0</td>\n",
       "      <td>0</td>\n",
       "      <td>0</td>\n",
       "      <td>2007</td>\n",
       "      <td>5</td>\n",
       "      <td>18</td>\n",
       "      <td>23</td>\n",
       "    </tr>\n",
       "    <tr>\n",
       "      <th>3</th>\n",
       "      <td>85180336</td>\n",
       "      <td>2012-06-09</td>\n",
       "      <td>17:15:00</td>\n",
       "      <td>0</td>\n",
       "      <td>0</td>\n",
       "      <td>1</td>\n",
       "      <td>0</td>\n",
       "      <td>0</td>\n",
       "      <td>1</td>\n",
       "      <td>0</td>\n",
       "      <td>...</td>\n",
       "      <td>0</td>\n",
       "      <td>0</td>\n",
       "      <td>1</td>\n",
       "      <td>0</td>\n",
       "      <td>0</td>\n",
       "      <td>0</td>\n",
       "      <td>2012</td>\n",
       "      <td>6</td>\n",
       "      <td>9</td>\n",
       "      <td>17</td>\n",
       "    </tr>\n",
       "    <tr>\n",
       "      <th>4</th>\n",
       "      <td>73405770</td>\n",
       "      <td>2010-06-27</td>\n",
       "      <td>4:14:00</td>\n",
       "      <td>0</td>\n",
       "      <td>0</td>\n",
       "      <td>1</td>\n",
       "      <td>0</td>\n",
       "      <td>0</td>\n",
       "      <td>1</td>\n",
       "      <td>0</td>\n",
       "      <td>...</td>\n",
       "      <td>0</td>\n",
       "      <td>0</td>\n",
       "      <td>0</td>\n",
       "      <td>1</td>\n",
       "      <td>0</td>\n",
       "      <td>0</td>\n",
       "      <td>2010</td>\n",
       "      <td>6</td>\n",
       "      <td>27</td>\n",
       "      <td>4</td>\n",
       "    </tr>\n",
       "  </tbody>\n",
       "</table>\n",
       "<p>5 rows × 24 columns</p>\n",
       "</div>"
      ],
      "text/plain": [
       "   INCIDENT_KEY OCCUR_DATE OCCUR_TIME  VIC_AGE_18  VIC_AGE_18_24  \\\n",
       "0      74146165 2010-08-14    3:11:00           0              0   \n",
       "1      66928846 2009-10-17   18:03:00           0              0   \n",
       "2      29114164 2007-05-18   23:00:00           0              0   \n",
       "3      85180336 2012-06-09   17:15:00           0              0   \n",
       "4      73405770 2010-06-27    4:14:00           0              0   \n",
       "\n",
       "   VIC_AGE_25_44  VIC_AGE_45_64  VIC_AGE_65  VIC_SEX_MALE  VIC_SEX_FEMALE  \\\n",
       "0              1              0           0             1               0   \n",
       "1              0              1           0             1               0   \n",
       "2              1              0           0             1               0   \n",
       "3              1              0           0             1               0   \n",
       "4              1              0           0             1               0   \n",
       "\n",
       "   ...  VIC_RACE_AMERICAN_ALA  BORO_QUEENS  BORO_BROOKLYN  BORO_BRONX  \\\n",
       "0  ...                      0            1              0           0   \n",
       "1  ...                      0            0              1           0   \n",
       "2  ...                      0            0              1           0   \n",
       "3  ...                      0            0              1           0   \n",
       "4  ...                      0            0              0           1   \n",
       "\n",
       "   BORO_MANHATTAN  BORO_STATEN  OCCUR_YEAR  OCCUR_MONTH  OCCUR_Day  OCCUR_Hour  \n",
       "0               0            0        2010            8         14           3  \n",
       "1               0            0        2009           10         17          18  \n",
       "2               0            0        2007            5         18          23  \n",
       "3               0            0        2012            6          9          17  \n",
       "4               0            0        2010            6         27           4  \n",
       "\n",
       "[5 rows x 24 columns]"
      ]
     },
     "execution_count": 24,
     "metadata": {},
     "output_type": "execute_result"
    }
   ],
   "source": [
    "full_data.head()\n"
   ]
  },
  {
   "cell_type": "code",
   "execution_count": 25,
   "metadata": {},
   "outputs": [
    {
     "data": {
      "text/plain": [
       "Index(['INCIDENT_KEY', 'OCCUR_DATE', 'OCCUR_TIME', 'VIC_AGE_18',\n",
       "       'VIC_AGE_18_24', 'VIC_AGE_25_44', 'VIC_AGE_45_64', 'VIC_AGE_65',\n",
       "       'VIC_SEX_MALE', 'VIC_SEX_FEMALE', 'VIC_RACE_BLACK',\n",
       "       'VIC_RACE_BLACK_HIS', 'VIC_RACE_WHITE_HIS', 'VIC_RACE_ASIAN_PAR',\n",
       "       'VIC_RACE_AMERICAN_ALA', 'BORO_QUEENS', 'BORO_BROOKLYN', 'BORO_BRONX',\n",
       "       'BORO_MANHATTAN', 'BORO_STATEN', 'OCCUR_YEAR', 'OCCUR_MONTH',\n",
       "       'OCCUR_Day', 'OCCUR_Hour'],\n",
       "      dtype='object')"
      ]
     },
     "execution_count": 25,
     "metadata": {},
     "output_type": "execute_result"
    }
   ],
   "source": [
    "full_data.columns"
   ]
  },
  {
   "cell_type": "code",
   "execution_count": 26,
   "metadata": {},
   "outputs": [],
   "source": [
    "#Group by Year, Month to get monthly data\n",
    "full_data_group = full_data.groupby(['OCCUR_YEAR',\"OCCUR_MONTH\"])['VIC_AGE_18',\n",
    "       'VIC_AGE_18_24', 'VIC_AGE_25_44', 'VIC_AGE_45_64', 'VIC_AGE_65',\n",
    "       'VIC_SEX_MALE', 'VIC_SEX_FEMALE', 'VIC_RACE_BLACK',\n",
    "       'VIC_RACE_BLACK_HIS', 'VIC_RACE_WHITE_HIS', 'VIC_RACE_ASIAN_PAR',\n",
    "       'VIC_RACE_AMERICAN_ALA', 'BORO_QUEENS', 'BORO_BROOKLYN', 'BORO_BRONX',\n",
    "       'BORO_MANHATTAN', 'BORO_STATEN'].sum()"
   ]
  },
  {
   "cell_type": "code",
   "execution_count": 27,
   "metadata": {},
   "outputs": [
    {
     "data": {
      "text/html": [
       "<div>\n",
       "<style scoped>\n",
       "    .dataframe tbody tr th:only-of-type {\n",
       "        vertical-align: middle;\n",
       "    }\n",
       "\n",
       "    .dataframe tbody tr th {\n",
       "        vertical-align: top;\n",
       "    }\n",
       "\n",
       "    .dataframe thead th {\n",
       "        text-align: right;\n",
       "    }\n",
       "</style>\n",
       "<table border=\"1\" class=\"dataframe\">\n",
       "  <thead>\n",
       "    <tr style=\"text-align: right;\">\n",
       "      <th></th>\n",
       "      <th></th>\n",
       "      <th>VIC_AGE_18</th>\n",
       "      <th>VIC_AGE_18_24</th>\n",
       "      <th>VIC_AGE_25_44</th>\n",
       "      <th>VIC_AGE_45_64</th>\n",
       "      <th>VIC_AGE_65</th>\n",
       "      <th>VIC_SEX_MALE</th>\n",
       "      <th>VIC_SEX_FEMALE</th>\n",
       "      <th>VIC_RACE_BLACK</th>\n",
       "      <th>VIC_RACE_BLACK_HIS</th>\n",
       "      <th>VIC_RACE_WHITE_HIS</th>\n",
       "      <th>VIC_RACE_ASIAN_PAR</th>\n",
       "      <th>VIC_RACE_AMERICAN_ALA</th>\n",
       "      <th>BORO_QUEENS</th>\n",
       "      <th>BORO_BROOKLYN</th>\n",
       "      <th>BORO_BRONX</th>\n",
       "      <th>BORO_MANHATTAN</th>\n",
       "      <th>BORO_STATEN</th>\n",
       "    </tr>\n",
       "    <tr>\n",
       "      <th>OCCUR_YEAR</th>\n",
       "      <th>OCCUR_MONTH</th>\n",
       "      <th></th>\n",
       "      <th></th>\n",
       "      <th></th>\n",
       "      <th></th>\n",
       "      <th></th>\n",
       "      <th></th>\n",
       "      <th></th>\n",
       "      <th></th>\n",
       "      <th></th>\n",
       "      <th></th>\n",
       "      <th></th>\n",
       "      <th></th>\n",
       "      <th></th>\n",
       "      <th></th>\n",
       "      <th></th>\n",
       "      <th></th>\n",
       "      <th></th>\n",
       "    </tr>\n",
       "  </thead>\n",
       "  <tbody>\n",
       "    <tr>\n",
       "      <th rowspan=\"5\" valign=\"top\">2006</th>\n",
       "      <th>1</th>\n",
       "      <td>15</td>\n",
       "      <td>58</td>\n",
       "      <td>51</td>\n",
       "      <td>5</td>\n",
       "      <td>0</td>\n",
       "      <td>123</td>\n",
       "      <td>6</td>\n",
       "      <td>86</td>\n",
       "      <td>6</td>\n",
       "      <td>24</td>\n",
       "      <td>6</td>\n",
       "      <td>0</td>\n",
       "      <td>18</td>\n",
       "      <td>49</td>\n",
       "      <td>40</td>\n",
       "      <td>16</td>\n",
       "      <td>6</td>\n",
       "    </tr>\n",
       "    <tr>\n",
       "      <th>2</th>\n",
       "      <td>11</td>\n",
       "      <td>38</td>\n",
       "      <td>40</td>\n",
       "      <td>8</td>\n",
       "      <td>0</td>\n",
       "      <td>91</td>\n",
       "      <td>6</td>\n",
       "      <td>63</td>\n",
       "      <td>4</td>\n",
       "      <td>21</td>\n",
       "      <td>5</td>\n",
       "      <td>0</td>\n",
       "      <td>23</td>\n",
       "      <td>34</td>\n",
       "      <td>22</td>\n",
       "      <td>16</td>\n",
       "      <td>2</td>\n",
       "    </tr>\n",
       "    <tr>\n",
       "      <th>3</th>\n",
       "      <td>14</td>\n",
       "      <td>46</td>\n",
       "      <td>36</td>\n",
       "      <td>6</td>\n",
       "      <td>0</td>\n",
       "      <td>96</td>\n",
       "      <td>6</td>\n",
       "      <td>74</td>\n",
       "      <td>1</td>\n",
       "      <td>22</td>\n",
       "      <td>1</td>\n",
       "      <td>0</td>\n",
       "      <td>9</td>\n",
       "      <td>48</td>\n",
       "      <td>27</td>\n",
       "      <td>14</td>\n",
       "      <td>4</td>\n",
       "    </tr>\n",
       "    <tr>\n",
       "      <th>4</th>\n",
       "      <td>21</td>\n",
       "      <td>64</td>\n",
       "      <td>62</td>\n",
       "      <td>7</td>\n",
       "      <td>2</td>\n",
       "      <td>144</td>\n",
       "      <td>12</td>\n",
       "      <td>103</td>\n",
       "      <td>2</td>\n",
       "      <td>47</td>\n",
       "      <td>1</td>\n",
       "      <td>0</td>\n",
       "      <td>29</td>\n",
       "      <td>54</td>\n",
       "      <td>46</td>\n",
       "      <td>20</td>\n",
       "      <td>7</td>\n",
       "    </tr>\n",
       "    <tr>\n",
       "      <th>5</th>\n",
       "      <td>29</td>\n",
       "      <td>73</td>\n",
       "      <td>63</td>\n",
       "      <td>6</td>\n",
       "      <td>2</td>\n",
       "      <td>161</td>\n",
       "      <td>12</td>\n",
       "      <td>126</td>\n",
       "      <td>3</td>\n",
       "      <td>40</td>\n",
       "      <td>0</td>\n",
       "      <td>0</td>\n",
       "      <td>18</td>\n",
       "      <td>80</td>\n",
       "      <td>46</td>\n",
       "      <td>27</td>\n",
       "      <td>2</td>\n",
       "    </tr>\n",
       "  </tbody>\n",
       "</table>\n",
       "</div>"
      ],
      "text/plain": [
       "                        VIC_AGE_18  VIC_AGE_18_24  VIC_AGE_25_44  \\\n",
       "OCCUR_YEAR OCCUR_MONTH                                             \n",
       "2006       1                    15             58             51   \n",
       "           2                    11             38             40   \n",
       "           3                    14             46             36   \n",
       "           4                    21             64             62   \n",
       "           5                    29             73             63   \n",
       "\n",
       "                        VIC_AGE_45_64  VIC_AGE_65  VIC_SEX_MALE  \\\n",
       "OCCUR_YEAR OCCUR_MONTH                                            \n",
       "2006       1                        5           0           123   \n",
       "           2                        8           0            91   \n",
       "           3                        6           0            96   \n",
       "           4                        7           2           144   \n",
       "           5                        6           2           161   \n",
       "\n",
       "                        VIC_SEX_FEMALE  VIC_RACE_BLACK  VIC_RACE_BLACK_HIS  \\\n",
       "OCCUR_YEAR OCCUR_MONTH                                                       \n",
       "2006       1                         6              86                   6   \n",
       "           2                         6              63                   4   \n",
       "           3                         6              74                   1   \n",
       "           4                        12             103                   2   \n",
       "           5                        12             126                   3   \n",
       "\n",
       "                        VIC_RACE_WHITE_HIS  VIC_RACE_ASIAN_PAR  \\\n",
       "OCCUR_YEAR OCCUR_MONTH                                           \n",
       "2006       1                            24                   6   \n",
       "           2                            21                   5   \n",
       "           3                            22                   1   \n",
       "           4                            47                   1   \n",
       "           5                            40                   0   \n",
       "\n",
       "                        VIC_RACE_AMERICAN_ALA  BORO_QUEENS  BORO_BROOKLYN  \\\n",
       "OCCUR_YEAR OCCUR_MONTH                                                      \n",
       "2006       1                                0           18             49   \n",
       "           2                                0           23             34   \n",
       "           3                                0            9             48   \n",
       "           4                                0           29             54   \n",
       "           5                                0           18             80   \n",
       "\n",
       "                        BORO_BRONX  BORO_MANHATTAN  BORO_STATEN  \n",
       "OCCUR_YEAR OCCUR_MONTH                                           \n",
       "2006       1                    40              16            6  \n",
       "           2                    22              16            2  \n",
       "           3                    27              14            4  \n",
       "           4                    46              20            7  \n",
       "           5                    46              27            2  "
      ]
     },
     "execution_count": 27,
     "metadata": {},
     "output_type": "execute_result"
    }
   ],
   "source": [
    "full_data_group.head()"
   ]
  },
  {
   "cell_type": "code",
   "execution_count": 28,
   "metadata": {},
   "outputs": [],
   "source": [
    "number_of_incident = full_data.groupby(['OCCUR_YEAR',\"OCCUR_MONTH\"]).count()['INCIDENT_KEY'].values"
   ]
  },
  {
   "cell_type": "code",
   "execution_count": 29,
   "metadata": {},
   "outputs": [],
   "source": [
    "full_data_group['Number_of_Incident'] = number_of_incident"
   ]
  },
  {
   "cell_type": "code",
   "execution_count": 30,
   "metadata": {},
   "outputs": [
    {
     "data": {
      "text/html": [
       "<div>\n",
       "<style scoped>\n",
       "    .dataframe tbody tr th:only-of-type {\n",
       "        vertical-align: middle;\n",
       "    }\n",
       "\n",
       "    .dataframe tbody tr th {\n",
       "        vertical-align: top;\n",
       "    }\n",
       "\n",
       "    .dataframe thead th {\n",
       "        text-align: right;\n",
       "    }\n",
       "</style>\n",
       "<table border=\"1\" class=\"dataframe\">\n",
       "  <thead>\n",
       "    <tr style=\"text-align: right;\">\n",
       "      <th></th>\n",
       "      <th></th>\n",
       "      <th>VIC_AGE_18</th>\n",
       "      <th>VIC_AGE_18_24</th>\n",
       "      <th>VIC_AGE_25_44</th>\n",
       "      <th>VIC_AGE_45_64</th>\n",
       "      <th>VIC_AGE_65</th>\n",
       "      <th>VIC_SEX_MALE</th>\n",
       "      <th>VIC_SEX_FEMALE</th>\n",
       "      <th>VIC_RACE_BLACK</th>\n",
       "      <th>VIC_RACE_BLACK_HIS</th>\n",
       "      <th>VIC_RACE_WHITE_HIS</th>\n",
       "      <th>VIC_RACE_ASIAN_PAR</th>\n",
       "      <th>VIC_RACE_AMERICAN_ALA</th>\n",
       "      <th>BORO_QUEENS</th>\n",
       "      <th>BORO_BROOKLYN</th>\n",
       "      <th>BORO_BRONX</th>\n",
       "      <th>BORO_MANHATTAN</th>\n",
       "      <th>BORO_STATEN</th>\n",
       "      <th>Number_of_Incident</th>\n",
       "    </tr>\n",
       "    <tr>\n",
       "      <th>OCCUR_YEAR</th>\n",
       "      <th>OCCUR_MONTH</th>\n",
       "      <th></th>\n",
       "      <th></th>\n",
       "      <th></th>\n",
       "      <th></th>\n",
       "      <th></th>\n",
       "      <th></th>\n",
       "      <th></th>\n",
       "      <th></th>\n",
       "      <th></th>\n",
       "      <th></th>\n",
       "      <th></th>\n",
       "      <th></th>\n",
       "      <th></th>\n",
       "      <th></th>\n",
       "      <th></th>\n",
       "      <th></th>\n",
       "      <th></th>\n",
       "      <th></th>\n",
       "    </tr>\n",
       "  </thead>\n",
       "  <tbody>\n",
       "    <tr>\n",
       "      <th rowspan=\"5\" valign=\"top\">2006</th>\n",
       "      <th>1</th>\n",
       "      <td>15</td>\n",
       "      <td>58</td>\n",
       "      <td>51</td>\n",
       "      <td>5</td>\n",
       "      <td>0</td>\n",
       "      <td>123</td>\n",
       "      <td>6</td>\n",
       "      <td>86</td>\n",
       "      <td>6</td>\n",
       "      <td>24</td>\n",
       "      <td>6</td>\n",
       "      <td>0</td>\n",
       "      <td>18</td>\n",
       "      <td>49</td>\n",
       "      <td>40</td>\n",
       "      <td>16</td>\n",
       "      <td>6</td>\n",
       "      <td>129</td>\n",
       "    </tr>\n",
       "    <tr>\n",
       "      <th>2</th>\n",
       "      <td>11</td>\n",
       "      <td>38</td>\n",
       "      <td>40</td>\n",
       "      <td>8</td>\n",
       "      <td>0</td>\n",
       "      <td>91</td>\n",
       "      <td>6</td>\n",
       "      <td>63</td>\n",
       "      <td>4</td>\n",
       "      <td>21</td>\n",
       "      <td>5</td>\n",
       "      <td>0</td>\n",
       "      <td>23</td>\n",
       "      <td>34</td>\n",
       "      <td>22</td>\n",
       "      <td>16</td>\n",
       "      <td>2</td>\n",
       "      <td>97</td>\n",
       "    </tr>\n",
       "    <tr>\n",
       "      <th>3</th>\n",
       "      <td>14</td>\n",
       "      <td>46</td>\n",
       "      <td>36</td>\n",
       "      <td>6</td>\n",
       "      <td>0</td>\n",
       "      <td>96</td>\n",
       "      <td>6</td>\n",
       "      <td>74</td>\n",
       "      <td>1</td>\n",
       "      <td>22</td>\n",
       "      <td>1</td>\n",
       "      <td>0</td>\n",
       "      <td>9</td>\n",
       "      <td>48</td>\n",
       "      <td>27</td>\n",
       "      <td>14</td>\n",
       "      <td>4</td>\n",
       "      <td>102</td>\n",
       "    </tr>\n",
       "    <tr>\n",
       "      <th>4</th>\n",
       "      <td>21</td>\n",
       "      <td>64</td>\n",
       "      <td>62</td>\n",
       "      <td>7</td>\n",
       "      <td>2</td>\n",
       "      <td>144</td>\n",
       "      <td>12</td>\n",
       "      <td>103</td>\n",
       "      <td>2</td>\n",
       "      <td>47</td>\n",
       "      <td>1</td>\n",
       "      <td>0</td>\n",
       "      <td>29</td>\n",
       "      <td>54</td>\n",
       "      <td>46</td>\n",
       "      <td>20</td>\n",
       "      <td>7</td>\n",
       "      <td>156</td>\n",
       "    </tr>\n",
       "    <tr>\n",
       "      <th>5</th>\n",
       "      <td>29</td>\n",
       "      <td>73</td>\n",
       "      <td>63</td>\n",
       "      <td>6</td>\n",
       "      <td>2</td>\n",
       "      <td>161</td>\n",
       "      <td>12</td>\n",
       "      <td>126</td>\n",
       "      <td>3</td>\n",
       "      <td>40</td>\n",
       "      <td>0</td>\n",
       "      <td>0</td>\n",
       "      <td>18</td>\n",
       "      <td>80</td>\n",
       "      <td>46</td>\n",
       "      <td>27</td>\n",
       "      <td>2</td>\n",
       "      <td>173</td>\n",
       "    </tr>\n",
       "  </tbody>\n",
       "</table>\n",
       "</div>"
      ],
      "text/plain": [
       "                        VIC_AGE_18  VIC_AGE_18_24  VIC_AGE_25_44  \\\n",
       "OCCUR_YEAR OCCUR_MONTH                                             \n",
       "2006       1                    15             58             51   \n",
       "           2                    11             38             40   \n",
       "           3                    14             46             36   \n",
       "           4                    21             64             62   \n",
       "           5                    29             73             63   \n",
       "\n",
       "                        VIC_AGE_45_64  VIC_AGE_65  VIC_SEX_MALE  \\\n",
       "OCCUR_YEAR OCCUR_MONTH                                            \n",
       "2006       1                        5           0           123   \n",
       "           2                        8           0            91   \n",
       "           3                        6           0            96   \n",
       "           4                        7           2           144   \n",
       "           5                        6           2           161   \n",
       "\n",
       "                        VIC_SEX_FEMALE  VIC_RACE_BLACK  VIC_RACE_BLACK_HIS  \\\n",
       "OCCUR_YEAR OCCUR_MONTH                                                       \n",
       "2006       1                         6              86                   6   \n",
       "           2                         6              63                   4   \n",
       "           3                         6              74                   1   \n",
       "           4                        12             103                   2   \n",
       "           5                        12             126                   3   \n",
       "\n",
       "                        VIC_RACE_WHITE_HIS  VIC_RACE_ASIAN_PAR  \\\n",
       "OCCUR_YEAR OCCUR_MONTH                                           \n",
       "2006       1                            24                   6   \n",
       "           2                            21                   5   \n",
       "           3                            22                   1   \n",
       "           4                            47                   1   \n",
       "           5                            40                   0   \n",
       "\n",
       "                        VIC_RACE_AMERICAN_ALA  BORO_QUEENS  BORO_BROOKLYN  \\\n",
       "OCCUR_YEAR OCCUR_MONTH                                                      \n",
       "2006       1                                0           18             49   \n",
       "           2                                0           23             34   \n",
       "           3                                0            9             48   \n",
       "           4                                0           29             54   \n",
       "           5                                0           18             80   \n",
       "\n",
       "                        BORO_BRONX  BORO_MANHATTAN  BORO_STATEN  \\\n",
       "OCCUR_YEAR OCCUR_MONTH                                            \n",
       "2006       1                    40              16            6   \n",
       "           2                    22              16            2   \n",
       "           3                    27              14            4   \n",
       "           4                    46              20            7   \n",
       "           5                    46              27            2   \n",
       "\n",
       "                        Number_of_Incident  \n",
       "OCCUR_YEAR OCCUR_MONTH                      \n",
       "2006       1                           129  \n",
       "           2                            97  \n",
       "           3                           102  \n",
       "           4                           156  \n",
       "           5                           173  "
      ]
     },
     "execution_count": 30,
     "metadata": {},
     "output_type": "execute_result"
    }
   ],
   "source": [
    "full_data_group.head()"
   ]
  },
  {
   "cell_type": "code",
   "execution_count": 31,
   "metadata": {},
   "outputs": [
    {
     "data": {
      "text/html": [
       "<div>\n",
       "<style scoped>\n",
       "    .dataframe tbody tr th:only-of-type {\n",
       "        vertical-align: middle;\n",
       "    }\n",
       "\n",
       "    .dataframe tbody tr th {\n",
       "        vertical-align: top;\n",
       "    }\n",
       "\n",
       "    .dataframe thead th {\n",
       "        text-align: right;\n",
       "    }\n",
       "</style>\n",
       "<table border=\"1\" class=\"dataframe\">\n",
       "  <thead>\n",
       "    <tr style=\"text-align: right;\">\n",
       "      <th></th>\n",
       "      <th></th>\n",
       "      <th>VIC_AGE_18</th>\n",
       "      <th>VIC_AGE_18_24</th>\n",
       "      <th>VIC_AGE_25_44</th>\n",
       "      <th>VIC_AGE_45_64</th>\n",
       "      <th>VIC_AGE_65</th>\n",
       "      <th>VIC_SEX_MALE</th>\n",
       "      <th>VIC_SEX_FEMALE</th>\n",
       "      <th>VIC_RACE_BLACK</th>\n",
       "      <th>VIC_RACE_BLACK_HIS</th>\n",
       "      <th>VIC_RACE_WHITE_HIS</th>\n",
       "      <th>VIC_RACE_ASIAN_PAR</th>\n",
       "      <th>VIC_RACE_AMERICAN_ALA</th>\n",
       "      <th>BORO_QUEENS</th>\n",
       "      <th>BORO_BROOKLYN</th>\n",
       "      <th>BORO_BRONX</th>\n",
       "      <th>BORO_MANHATTAN</th>\n",
       "      <th>BORO_STATEN</th>\n",
       "      <th>Number_of_Incident</th>\n",
       "    </tr>\n",
       "    <tr>\n",
       "      <th>OCCUR_YEAR</th>\n",
       "      <th>OCCUR_MONTH</th>\n",
       "      <th></th>\n",
       "      <th></th>\n",
       "      <th></th>\n",
       "      <th></th>\n",
       "      <th></th>\n",
       "      <th></th>\n",
       "      <th></th>\n",
       "      <th></th>\n",
       "      <th></th>\n",
       "      <th></th>\n",
       "      <th></th>\n",
       "      <th></th>\n",
       "      <th></th>\n",
       "      <th></th>\n",
       "      <th></th>\n",
       "      <th></th>\n",
       "      <th></th>\n",
       "      <th></th>\n",
       "    </tr>\n",
       "  </thead>\n",
       "  <tbody>\n",
       "    <tr>\n",
       "      <th rowspan=\"6\" valign=\"top\">2020</th>\n",
       "      <th>1</th>\n",
       "      <td>5</td>\n",
       "      <td>19</td>\n",
       "      <td>57</td>\n",
       "      <td>8</td>\n",
       "      <td>0</td>\n",
       "      <td>80</td>\n",
       "      <td>9</td>\n",
       "      <td>57</td>\n",
       "      <td>7</td>\n",
       "      <td>19</td>\n",
       "      <td>1</td>\n",
       "      <td>0</td>\n",
       "      <td>19</td>\n",
       "      <td>25</td>\n",
       "      <td>24</td>\n",
       "      <td>20</td>\n",
       "      <td>1</td>\n",
       "      <td>89</td>\n",
       "    </tr>\n",
       "    <tr>\n",
       "      <th>2</th>\n",
       "      <td>2</td>\n",
       "      <td>15</td>\n",
       "      <td>31</td>\n",
       "      <td>1</td>\n",
       "      <td>0</td>\n",
       "      <td>47</td>\n",
       "      <td>4</td>\n",
       "      <td>34</td>\n",
       "      <td>2</td>\n",
       "      <td>9</td>\n",
       "      <td>0</td>\n",
       "      <td>0</td>\n",
       "      <td>17</td>\n",
       "      <td>14</td>\n",
       "      <td>11</td>\n",
       "      <td>6</td>\n",
       "      <td>3</td>\n",
       "      <td>51</td>\n",
       "    </tr>\n",
       "    <tr>\n",
       "      <th>3</th>\n",
       "      <td>3</td>\n",
       "      <td>17</td>\n",
       "      <td>45</td>\n",
       "      <td>6</td>\n",
       "      <td>0</td>\n",
       "      <td>64</td>\n",
       "      <td>7</td>\n",
       "      <td>57</td>\n",
       "      <td>7</td>\n",
       "      <td>5</td>\n",
       "      <td>2</td>\n",
       "      <td>0</td>\n",
       "      <td>9</td>\n",
       "      <td>28</td>\n",
       "      <td>13</td>\n",
       "      <td>18</td>\n",
       "      <td>3</td>\n",
       "      <td>71</td>\n",
       "    </tr>\n",
       "    <tr>\n",
       "      <th>4</th>\n",
       "      <td>4</td>\n",
       "      <td>19</td>\n",
       "      <td>39</td>\n",
       "      <td>5</td>\n",
       "      <td>1</td>\n",
       "      <td>67</td>\n",
       "      <td>2</td>\n",
       "      <td>52</td>\n",
       "      <td>4</td>\n",
       "      <td>10</td>\n",
       "      <td>2</td>\n",
       "      <td>0</td>\n",
       "      <td>9</td>\n",
       "      <td>29</td>\n",
       "      <td>19</td>\n",
       "      <td>10</td>\n",
       "      <td>2</td>\n",
       "      <td>69</td>\n",
       "    </tr>\n",
       "    <tr>\n",
       "      <th>5</th>\n",
       "      <td>6</td>\n",
       "      <td>35</td>\n",
       "      <td>71</td>\n",
       "      <td>12</td>\n",
       "      <td>2</td>\n",
       "      <td>113</td>\n",
       "      <td>12</td>\n",
       "      <td>82</td>\n",
       "      <td>14</td>\n",
       "      <td>27</td>\n",
       "      <td>0</td>\n",
       "      <td>0</td>\n",
       "      <td>25</td>\n",
       "      <td>47</td>\n",
       "      <td>28</td>\n",
       "      <td>18</td>\n",
       "      <td>8</td>\n",
       "      <td>126</td>\n",
       "    </tr>\n",
       "    <tr>\n",
       "      <th>6</th>\n",
       "      <td>17</td>\n",
       "      <td>72</td>\n",
       "      <td>146</td>\n",
       "      <td>21</td>\n",
       "      <td>1</td>\n",
       "      <td>221</td>\n",
       "      <td>32</td>\n",
       "      <td>194</td>\n",
       "      <td>24</td>\n",
       "      <td>30</td>\n",
       "      <td>3</td>\n",
       "      <td>0</td>\n",
       "      <td>36</td>\n",
       "      <td>106</td>\n",
       "      <td>78</td>\n",
       "      <td>34</td>\n",
       "      <td>4</td>\n",
       "      <td>258</td>\n",
       "    </tr>\n",
       "  </tbody>\n",
       "</table>\n",
       "</div>"
      ],
      "text/plain": [
       "                        VIC_AGE_18  VIC_AGE_18_24  VIC_AGE_25_44  \\\n",
       "OCCUR_YEAR OCCUR_MONTH                                             \n",
       "2020       1                     5             19             57   \n",
       "           2                     2             15             31   \n",
       "           3                     3             17             45   \n",
       "           4                     4             19             39   \n",
       "           5                     6             35             71   \n",
       "           6                    17             72            146   \n",
       "\n",
       "                        VIC_AGE_45_64  VIC_AGE_65  VIC_SEX_MALE  \\\n",
       "OCCUR_YEAR OCCUR_MONTH                                            \n",
       "2020       1                        8           0            80   \n",
       "           2                        1           0            47   \n",
       "           3                        6           0            64   \n",
       "           4                        5           1            67   \n",
       "           5                       12           2           113   \n",
       "           6                       21           1           221   \n",
       "\n",
       "                        VIC_SEX_FEMALE  VIC_RACE_BLACK  VIC_RACE_BLACK_HIS  \\\n",
       "OCCUR_YEAR OCCUR_MONTH                                                       \n",
       "2020       1                         9              57                   7   \n",
       "           2                         4              34                   2   \n",
       "           3                         7              57                   7   \n",
       "           4                         2              52                   4   \n",
       "           5                        12              82                  14   \n",
       "           6                        32             194                  24   \n",
       "\n",
       "                        VIC_RACE_WHITE_HIS  VIC_RACE_ASIAN_PAR  \\\n",
       "OCCUR_YEAR OCCUR_MONTH                                           \n",
       "2020       1                            19                   1   \n",
       "           2                             9                   0   \n",
       "           3                             5                   2   \n",
       "           4                            10                   2   \n",
       "           5                            27                   0   \n",
       "           6                            30                   3   \n",
       "\n",
       "                        VIC_RACE_AMERICAN_ALA  BORO_QUEENS  BORO_BROOKLYN  \\\n",
       "OCCUR_YEAR OCCUR_MONTH                                                      \n",
       "2020       1                                0           19             25   \n",
       "           2                                0           17             14   \n",
       "           3                                0            9             28   \n",
       "           4                                0            9             29   \n",
       "           5                                0           25             47   \n",
       "           6                                0           36            106   \n",
       "\n",
       "                        BORO_BRONX  BORO_MANHATTAN  BORO_STATEN  \\\n",
       "OCCUR_YEAR OCCUR_MONTH                                            \n",
       "2020       1                    24              20            1   \n",
       "           2                    11               6            3   \n",
       "           3                    13              18            3   \n",
       "           4                    19              10            2   \n",
       "           5                    28              18            8   \n",
       "           6                    78              34            4   \n",
       "\n",
       "                        Number_of_Incident  \n",
       "OCCUR_YEAR OCCUR_MONTH                      \n",
       "2020       1                            89  \n",
       "           2                            51  \n",
       "           3                            71  \n",
       "           4                            69  \n",
       "           5                           126  \n",
       "           6                           258  "
      ]
     },
     "execution_count": 31,
     "metadata": {},
     "output_type": "execute_result"
    }
   ],
   "source": [
    "full_data_group.tail(6)"
   ]
  },
  {
   "cell_type": "code",
   "execution_count": 32,
   "metadata": {},
   "outputs": [
    {
     "data": {
      "text/plain": [
       "(174, 20)"
      ]
     },
     "execution_count": 32,
     "metadata": {},
     "output_type": "execute_result"
    }
   ],
   "source": [
    "full_data_group.reset_index().shape"
   ]
  },
  {
   "cell_type": "code",
   "execution_count": 33,
   "metadata": {},
   "outputs": [],
   "source": [
    "#Unemployment processing\n",
    "\n",
    "unemployment = pd.read_csv('UnemploymentRate.csv')"
   ]
  },
  {
   "cell_type": "code",
   "execution_count": 34,
   "metadata": {},
   "outputs": [
    {
     "data": {
      "text/html": [
       "<div>\n",
       "<style scoped>\n",
       "    .dataframe tbody tr th:only-of-type {\n",
       "        vertical-align: middle;\n",
       "    }\n",
       "\n",
       "    .dataframe tbody tr th {\n",
       "        vertical-align: top;\n",
       "    }\n",
       "\n",
       "    .dataframe thead th {\n",
       "        text-align: right;\n",
       "    }\n",
       "</style>\n",
       "<table border=\"1\" class=\"dataframe\">\n",
       "  <thead>\n",
       "    <tr style=\"text-align: right;\">\n",
       "      <th></th>\n",
       "      <th>Date</th>\n",
       "      <th>PX_LAST</th>\n",
       "    </tr>\n",
       "  </thead>\n",
       "  <tbody>\n",
       "    <tr>\n",
       "      <th>0</th>\n",
       "      <td>9/30/2020</td>\n",
       "      <td>7.9</td>\n",
       "    </tr>\n",
       "    <tr>\n",
       "      <th>1</th>\n",
       "      <td>8/31/2020</td>\n",
       "      <td>8.4</td>\n",
       "    </tr>\n",
       "    <tr>\n",
       "      <th>2</th>\n",
       "      <td>7/31/2020</td>\n",
       "      <td>10.2</td>\n",
       "    </tr>\n",
       "    <tr>\n",
       "      <th>3</th>\n",
       "      <td>6/30/2020</td>\n",
       "      <td>11.1</td>\n",
       "    </tr>\n",
       "    <tr>\n",
       "      <th>4</th>\n",
       "      <td>5/31/2020</td>\n",
       "      <td>13.3</td>\n",
       "    </tr>\n",
       "  </tbody>\n",
       "</table>\n",
       "</div>"
      ],
      "text/plain": [
       "        Date  PX_LAST\n",
       "0  9/30/2020      7.9\n",
       "1  8/31/2020      8.4\n",
       "2  7/31/2020     10.2\n",
       "3  6/30/2020     11.1\n",
       "4  5/31/2020     13.3"
      ]
     },
     "execution_count": 34,
     "metadata": {},
     "output_type": "execute_result"
    }
   ],
   "source": [
    "unemployment.head()\n"
   ]
  },
  {
   "cell_type": "code",
   "execution_count": 35,
   "metadata": {},
   "outputs": [
    {
     "data": {
      "text/html": [
       "<div>\n",
       "<style scoped>\n",
       "    .dataframe tbody tr th:only-of-type {\n",
       "        vertical-align: middle;\n",
       "    }\n",
       "\n",
       "    .dataframe tbody tr th {\n",
       "        vertical-align: top;\n",
       "    }\n",
       "\n",
       "    .dataframe thead th {\n",
       "        text-align: right;\n",
       "    }\n",
       "</style>\n",
       "<table border=\"1\" class=\"dataframe\">\n",
       "  <thead>\n",
       "    <tr style=\"text-align: right;\">\n",
       "      <th></th>\n",
       "      <th>Date</th>\n",
       "      <th>PX_LAST</th>\n",
       "    </tr>\n",
       "  </thead>\n",
       "  <tbody>\n",
       "    <tr>\n",
       "      <th>172</th>\n",
       "      <td>5/31/2006</td>\n",
       "      <td>4.6</td>\n",
       "    </tr>\n",
       "    <tr>\n",
       "      <th>173</th>\n",
       "      <td>4/30/2006</td>\n",
       "      <td>4.7</td>\n",
       "    </tr>\n",
       "    <tr>\n",
       "      <th>174</th>\n",
       "      <td>3/31/2006</td>\n",
       "      <td>4.7</td>\n",
       "    </tr>\n",
       "    <tr>\n",
       "      <th>175</th>\n",
       "      <td>2/28/2006</td>\n",
       "      <td>4.8</td>\n",
       "    </tr>\n",
       "    <tr>\n",
       "      <th>176</th>\n",
       "      <td>1/31/2006</td>\n",
       "      <td>4.7</td>\n",
       "    </tr>\n",
       "  </tbody>\n",
       "</table>\n",
       "</div>"
      ],
      "text/plain": [
       "          Date  PX_LAST\n",
       "172  5/31/2006      4.6\n",
       "173  4/30/2006      4.7\n",
       "174  3/31/2006      4.7\n",
       "175  2/28/2006      4.8\n",
       "176  1/31/2006      4.7"
      ]
     },
     "execution_count": 35,
     "metadata": {},
     "output_type": "execute_result"
    }
   ],
   "source": [
    "unemployment.tail()"
   ]
  },
  {
   "cell_type": "code",
   "execution_count": 36,
   "metadata": {},
   "outputs": [],
   "source": [
    "unemployment.Date = pd.to_datetime(unemployment.Date)\n",
    "unemployment['Year'] = unemployment.Date.dt.year\n",
    "unemployment['Month'] = unemployment.Date.dt.month"
   ]
  },
  {
   "cell_type": "code",
   "execution_count": 37,
   "metadata": {},
   "outputs": [],
   "source": [
    "unemployment_group = unemployment.groupby(['Year','Month'])['PX_LAST'].mean()\n"
   ]
  },
  {
   "cell_type": "code",
   "execution_count": 38,
   "metadata": {},
   "outputs": [],
   "source": [
    "unemployment_group = pd.DataFrame(unemployment_group)\n",
    "unemployment_group.head()\n",
    "unemployment_group.reset_index(inplace = True)"
   ]
  },
  {
   "cell_type": "code",
   "execution_count": 39,
   "metadata": {},
   "outputs": [],
   "source": [
    "unemployment_group.rename(columns= {'PX_LAST':\"UnemploymentRate\"},inplace = True)"
   ]
  },
  {
   "cell_type": "code",
   "execution_count": 40,
   "metadata": {},
   "outputs": [
    {
     "data": {
      "text/html": [
       "<div>\n",
       "<style scoped>\n",
       "    .dataframe tbody tr th:only-of-type {\n",
       "        vertical-align: middle;\n",
       "    }\n",
       "\n",
       "    .dataframe tbody tr th {\n",
       "        vertical-align: top;\n",
       "    }\n",
       "\n",
       "    .dataframe thead th {\n",
       "        text-align: right;\n",
       "    }\n",
       "</style>\n",
       "<table border=\"1\" class=\"dataframe\">\n",
       "  <thead>\n",
       "    <tr style=\"text-align: right;\">\n",
       "      <th></th>\n",
       "      <th>Year</th>\n",
       "      <th>Month</th>\n",
       "      <th>UnemploymentRate</th>\n",
       "    </tr>\n",
       "  </thead>\n",
       "  <tbody>\n",
       "    <tr>\n",
       "      <th>0</th>\n",
       "      <td>2006</td>\n",
       "      <td>1</td>\n",
       "      <td>4.7</td>\n",
       "    </tr>\n",
       "    <tr>\n",
       "      <th>1</th>\n",
       "      <td>2006</td>\n",
       "      <td>2</td>\n",
       "      <td>4.8</td>\n",
       "    </tr>\n",
       "    <tr>\n",
       "      <th>2</th>\n",
       "      <td>2006</td>\n",
       "      <td>3</td>\n",
       "      <td>4.7</td>\n",
       "    </tr>\n",
       "    <tr>\n",
       "      <th>3</th>\n",
       "      <td>2006</td>\n",
       "      <td>4</td>\n",
       "      <td>4.7</td>\n",
       "    </tr>\n",
       "    <tr>\n",
       "      <th>4</th>\n",
       "      <td>2006</td>\n",
       "      <td>5</td>\n",
       "      <td>4.6</td>\n",
       "    </tr>\n",
       "  </tbody>\n",
       "</table>\n",
       "</div>"
      ],
      "text/plain": [
       "   Year  Month  UnemploymentRate\n",
       "0  2006      1               4.7\n",
       "1  2006      2               4.8\n",
       "2  2006      3               4.7\n",
       "3  2006      4               4.7\n",
       "4  2006      5               4.6"
      ]
     },
     "execution_count": 40,
     "metadata": {},
     "output_type": "execute_result"
    }
   ],
   "source": [
    "unemployment_group.head()"
   ]
  },
  {
   "cell_type": "code",
   "execution_count": 41,
   "metadata": {},
   "outputs": [
    {
     "data": {
      "text/html": [
       "<div>\n",
       "<style scoped>\n",
       "    .dataframe tbody tr th:only-of-type {\n",
       "        vertical-align: middle;\n",
       "    }\n",
       "\n",
       "    .dataframe tbody tr th {\n",
       "        vertical-align: top;\n",
       "    }\n",
       "\n",
       "    .dataframe thead th {\n",
       "        text-align: right;\n",
       "    }\n",
       "</style>\n",
       "<table border=\"1\" class=\"dataframe\">\n",
       "  <thead>\n",
       "    <tr style=\"text-align: right;\">\n",
       "      <th></th>\n",
       "      <th>Date</th>\n",
       "      <th>PX_LAST</th>\n",
       "    </tr>\n",
       "  </thead>\n",
       "  <tbody>\n",
       "    <tr>\n",
       "      <th>0</th>\n",
       "      <td>9/30/2020</td>\n",
       "      <td>17.0</td>\n",
       "    </tr>\n",
       "    <tr>\n",
       "      <th>1</th>\n",
       "      <td>8/31/2020</td>\n",
       "      <td>3.7</td>\n",
       "    </tr>\n",
       "    <tr>\n",
       "      <th>2</th>\n",
       "      <td>7/31/2020</td>\n",
       "      <td>17.2</td>\n",
       "    </tr>\n",
       "    <tr>\n",
       "      <th>3</th>\n",
       "      <td>6/30/2020</td>\n",
       "      <td>-0.2</td>\n",
       "    </tr>\n",
       "    <tr>\n",
       "      <th>4</th>\n",
       "      <td>5/31/2020</td>\n",
       "      <td>-48.5</td>\n",
       "    </tr>\n",
       "  </tbody>\n",
       "</table>\n",
       "</div>"
      ],
      "text/plain": [
       "        Date  PX_LAST\n",
       "0  9/30/2020     17.0\n",
       "1  8/31/2020      3.7\n",
       "2  7/31/2020     17.2\n",
       "3  6/30/2020     -0.2\n",
       "4  5/31/2020    -48.5"
      ]
     },
     "execution_count": 41,
     "metadata": {},
     "output_type": "execute_result"
    }
   ],
   "source": [
    "# NYC Empire dataset\n",
    "\n",
    "ny_empire = pd.read_csv('NY.Empire.csv')\n",
    "ny_empire.head()"
   ]
  },
  {
   "cell_type": "code",
   "execution_count": 42,
   "metadata": {},
   "outputs": [],
   "source": [
    "ny_empire.Date = pd.to_datetime(ny_empire.Date)\n",
    "ny_empire['Year'] = ny_empire.Date.dt.year\n",
    "ny_empire['Month'] = ny_empire.Date.dt.month\n",
    "ny_empire.rename(columns= {'PX_LAST':\"NY_Empire\"},inplace = True)\n",
    "ny_empire = ny_empire.groupby(['Year','Month'])['NY_Empire'].mean()"
   ]
  },
  {
   "cell_type": "code",
   "execution_count": 43,
   "metadata": {},
   "outputs": [
    {
     "data": {
      "text/html": [
       "<div>\n",
       "<style scoped>\n",
       "    .dataframe tbody tr th:only-of-type {\n",
       "        vertical-align: middle;\n",
       "    }\n",
       "\n",
       "    .dataframe tbody tr th {\n",
       "        vertical-align: top;\n",
       "    }\n",
       "\n",
       "    .dataframe thead th {\n",
       "        text-align: right;\n",
       "    }\n",
       "</style>\n",
       "<table border=\"1\" class=\"dataframe\">\n",
       "  <thead>\n",
       "    <tr style=\"text-align: right;\">\n",
       "      <th></th>\n",
       "      <th></th>\n",
       "      <th>NY_Empire</th>\n",
       "    </tr>\n",
       "    <tr>\n",
       "      <th>Year</th>\n",
       "      <th>Month</th>\n",
       "      <th></th>\n",
       "    </tr>\n",
       "  </thead>\n",
       "  <tbody>\n",
       "    <tr>\n",
       "      <th rowspan=\"5\" valign=\"top\">2005</th>\n",
       "      <th>1</th>\n",
       "      <td>15.6</td>\n",
       "    </tr>\n",
       "    <tr>\n",
       "      <th>2</th>\n",
       "      <td>17.1</td>\n",
       "    </tr>\n",
       "    <tr>\n",
       "      <th>3</th>\n",
       "      <td>24.3</td>\n",
       "    </tr>\n",
       "    <tr>\n",
       "      <th>4</th>\n",
       "      <td>8.3</td>\n",
       "    </tr>\n",
       "    <tr>\n",
       "      <th>5</th>\n",
       "      <td>-4.9</td>\n",
       "    </tr>\n",
       "  </tbody>\n",
       "</table>\n",
       "</div>"
      ],
      "text/plain": [
       "            NY_Empire\n",
       "Year Month           \n",
       "2005 1           15.6\n",
       "     2           17.1\n",
       "     3           24.3\n",
       "     4            8.3\n",
       "     5           -4.9"
      ]
     },
     "execution_count": 43,
     "metadata": {},
     "output_type": "execute_result"
    }
   ],
   "source": [
    "ny_empire = pd.DataFrame(ny_empire)\n",
    "ny_empire.head()"
   ]
  },
  {
   "cell_type": "code",
   "execution_count": 44,
   "metadata": {},
   "outputs": [
    {
     "data": {
      "text/html": [
       "<div>\n",
       "<style scoped>\n",
       "    .dataframe tbody tr th:only-of-type {\n",
       "        vertical-align: middle;\n",
       "    }\n",
       "\n",
       "    .dataframe tbody tr th {\n",
       "        vertical-align: top;\n",
       "    }\n",
       "\n",
       "    .dataframe thead th {\n",
       "        text-align: right;\n",
       "    }\n",
       "</style>\n",
       "<table border=\"1\" class=\"dataframe\">\n",
       "  <thead>\n",
       "    <tr style=\"text-align: right;\">\n",
       "      <th></th>\n",
       "      <th>Date</th>\n",
       "      <th>PX_LAST</th>\n",
       "    </tr>\n",
       "  </thead>\n",
       "  <tbody>\n",
       "    <tr>\n",
       "      <th>0</th>\n",
       "      <td>6/30/2020</td>\n",
       "      <td>-31.4</td>\n",
       "    </tr>\n",
       "    <tr>\n",
       "      <th>1</th>\n",
       "      <td>3/31/2020</td>\n",
       "      <td>-5.0</td>\n",
       "    </tr>\n",
       "    <tr>\n",
       "      <th>2</th>\n",
       "      <td>12/31/2019</td>\n",
       "      <td>2.4</td>\n",
       "    </tr>\n",
       "    <tr>\n",
       "      <th>3</th>\n",
       "      <td>9/30/2019</td>\n",
       "      <td>2.6</td>\n",
       "    </tr>\n",
       "    <tr>\n",
       "      <th>4</th>\n",
       "      <td>6/30/2019</td>\n",
       "      <td>1.5</td>\n",
       "    </tr>\n",
       "  </tbody>\n",
       "</table>\n",
       "</div>"
      ],
      "text/plain": [
       "         Date  PX_LAST\n",
       "0   6/30/2020    -31.4\n",
       "1   3/31/2020     -5.0\n",
       "2  12/31/2019      2.4\n",
       "3   9/30/2019      2.6\n",
       "4   6/30/2019      1.5"
      ]
     },
     "execution_count": 44,
     "metadata": {},
     "output_type": "execute_result"
    }
   ],
   "source": [
    "#GDP data upload\n",
    "gdp = pd.read_csv('GDP.csv')\n",
    "gdp.head()"
   ]
  },
  {
   "cell_type": "code",
   "execution_count": 45,
   "metadata": {},
   "outputs": [],
   "source": [
    "gdp.Date = pd.to_datetime(gdp.Date)\n",
    "gdp = gdp.set_index('Date').resample('M').interpolate(method = 'ffill', \n",
    "                                                       limit_direction = 'backward').fillna(method = 'ffill')\n"
   ]
  },
  {
   "cell_type": "code",
   "execution_count": 46,
   "metadata": {},
   "outputs": [
    {
     "data": {
      "text/html": [
       "<div>\n",
       "<style scoped>\n",
       "    .dataframe tbody tr th:only-of-type {\n",
       "        vertical-align: middle;\n",
       "    }\n",
       "\n",
       "    .dataframe tbody tr th {\n",
       "        vertical-align: top;\n",
       "    }\n",
       "\n",
       "    .dataframe thead th {\n",
       "        text-align: right;\n",
       "    }\n",
       "</style>\n",
       "<table border=\"1\" class=\"dataframe\">\n",
       "  <thead>\n",
       "    <tr style=\"text-align: right;\">\n",
       "      <th></th>\n",
       "      <th>PX_LAST</th>\n",
       "    </tr>\n",
       "    <tr>\n",
       "      <th>Date</th>\n",
       "      <th></th>\n",
       "    </tr>\n",
       "  </thead>\n",
       "  <tbody>\n",
       "    <tr>\n",
       "      <th>2005-03-31</th>\n",
       "      <td>4.5</td>\n",
       "    </tr>\n",
       "    <tr>\n",
       "      <th>2005-04-30</th>\n",
       "      <td>4.5</td>\n",
       "    </tr>\n",
       "    <tr>\n",
       "      <th>2005-05-31</th>\n",
       "      <td>4.5</td>\n",
       "    </tr>\n",
       "    <tr>\n",
       "      <th>2005-06-30</th>\n",
       "      <td>1.9</td>\n",
       "    </tr>\n",
       "    <tr>\n",
       "      <th>2005-07-31</th>\n",
       "      <td>1.9</td>\n",
       "    </tr>\n",
       "  </tbody>\n",
       "</table>\n",
       "</div>"
      ],
      "text/plain": [
       "            PX_LAST\n",
       "Date               \n",
       "2005-03-31      4.5\n",
       "2005-04-30      4.5\n",
       "2005-05-31      4.5\n",
       "2005-06-30      1.9\n",
       "2005-07-31      1.9"
      ]
     },
     "execution_count": 46,
     "metadata": {},
     "output_type": "execute_result"
    }
   ],
   "source": [
    "gdp.head()"
   ]
  },
  {
   "cell_type": "code",
   "execution_count": 47,
   "metadata": {},
   "outputs": [],
   "source": [
    "gdp = gdp.reset_index()\n",
    "gdp['Year'] = gdp.Date.dt.year\n",
    "gdp['Month'] = gdp.Date.dt.month\n",
    "gdp.rename(columns= {'PX_LAST':\"GDP\"},inplace = True)\n",
    "gdp = gdp.drop(columns = ['Date'])"
   ]
  },
  {
   "cell_type": "code",
   "execution_count": null,
   "metadata": {
    "collapsed": true,
    "jupyter": {
     "outputs_hidden": true
    }
   },
   "outputs": [],
   "source": []
  },
  {
   "cell_type": "code",
   "execution_count": 48,
   "metadata": {},
   "outputs": [],
   "source": [
    "#Combine those four dataset(gun shooting + employment + gdp + ny_empire)\n",
    "combined = pd.concat([full_data_group,unemployment_group.set_index(['Year','Month']),ny_empire,\n",
    "                     gdp.set_index(['Year','Month'])],\n",
    "                    join='inner',axis = 1,sort = True)\n"
   ]
  },
  {
   "cell_type": "code",
   "execution_count": 49,
   "metadata": {},
   "outputs": [],
   "source": [
    "final_data = pd.DataFrame(combined)"
   ]
  },
  {
   "cell_type": "code",
   "execution_count": 50,
   "metadata": {},
   "outputs": [
    {
     "data": {
      "text/html": [
       "<div>\n",
       "<style scoped>\n",
       "    .dataframe tbody tr th:only-of-type {\n",
       "        vertical-align: middle;\n",
       "    }\n",
       "\n",
       "    .dataframe tbody tr th {\n",
       "        vertical-align: top;\n",
       "    }\n",
       "\n",
       "    .dataframe thead th {\n",
       "        text-align: right;\n",
       "    }\n",
       "</style>\n",
       "<table border=\"1\" class=\"dataframe\">\n",
       "  <thead>\n",
       "    <tr style=\"text-align: right;\">\n",
       "      <th></th>\n",
       "      <th></th>\n",
       "      <th>VIC_AGE_18</th>\n",
       "      <th>VIC_AGE_18_24</th>\n",
       "      <th>VIC_AGE_25_44</th>\n",
       "      <th>VIC_AGE_45_64</th>\n",
       "      <th>VIC_AGE_65</th>\n",
       "      <th>VIC_SEX_MALE</th>\n",
       "      <th>VIC_SEX_FEMALE</th>\n",
       "      <th>VIC_RACE_BLACK</th>\n",
       "      <th>VIC_RACE_BLACK_HIS</th>\n",
       "      <th>VIC_RACE_WHITE_HIS</th>\n",
       "      <th>...</th>\n",
       "      <th>VIC_RACE_AMERICAN_ALA</th>\n",
       "      <th>BORO_QUEENS</th>\n",
       "      <th>BORO_BROOKLYN</th>\n",
       "      <th>BORO_BRONX</th>\n",
       "      <th>BORO_MANHATTAN</th>\n",
       "      <th>BORO_STATEN</th>\n",
       "      <th>Number_of_Incident</th>\n",
       "      <th>UnemploymentRate</th>\n",
       "      <th>NY_Empire</th>\n",
       "      <th>GDP</th>\n",
       "    </tr>\n",
       "  </thead>\n",
       "  <tbody>\n",
       "    <tr>\n",
       "      <th rowspan=\"5\" valign=\"top\">2006</th>\n",
       "      <th>1</th>\n",
       "      <td>15</td>\n",
       "      <td>58</td>\n",
       "      <td>51</td>\n",
       "      <td>5</td>\n",
       "      <td>0</td>\n",
       "      <td>123</td>\n",
       "      <td>6</td>\n",
       "      <td>86</td>\n",
       "      <td>6</td>\n",
       "      <td>24</td>\n",
       "      <td>...</td>\n",
       "      <td>0</td>\n",
       "      <td>18</td>\n",
       "      <td>49</td>\n",
       "      <td>40</td>\n",
       "      <td>16</td>\n",
       "      <td>6</td>\n",
       "      <td>129</td>\n",
       "      <td>4.7</td>\n",
       "      <td>17.5</td>\n",
       "      <td>2.6</td>\n",
       "    </tr>\n",
       "    <tr>\n",
       "      <th>2</th>\n",
       "      <td>11</td>\n",
       "      <td>38</td>\n",
       "      <td>40</td>\n",
       "      <td>8</td>\n",
       "      <td>0</td>\n",
       "      <td>91</td>\n",
       "      <td>6</td>\n",
       "      <td>63</td>\n",
       "      <td>4</td>\n",
       "      <td>21</td>\n",
       "      <td>...</td>\n",
       "      <td>0</td>\n",
       "      <td>23</td>\n",
       "      <td>34</td>\n",
       "      <td>22</td>\n",
       "      <td>16</td>\n",
       "      <td>2</td>\n",
       "      <td>97</td>\n",
       "      <td>4.8</td>\n",
       "      <td>20.9</td>\n",
       "      <td>2.6</td>\n",
       "    </tr>\n",
       "    <tr>\n",
       "      <th>3</th>\n",
       "      <td>14</td>\n",
       "      <td>46</td>\n",
       "      <td>36</td>\n",
       "      <td>6</td>\n",
       "      <td>0</td>\n",
       "      <td>96</td>\n",
       "      <td>6</td>\n",
       "      <td>74</td>\n",
       "      <td>1</td>\n",
       "      <td>22</td>\n",
       "      <td>...</td>\n",
       "      <td>0</td>\n",
       "      <td>9</td>\n",
       "      <td>48</td>\n",
       "      <td>27</td>\n",
       "      <td>14</td>\n",
       "      <td>4</td>\n",
       "      <td>102</td>\n",
       "      <td>4.7</td>\n",
       "      <td>33.2</td>\n",
       "      <td>5.4</td>\n",
       "    </tr>\n",
       "    <tr>\n",
       "      <th>4</th>\n",
       "      <td>21</td>\n",
       "      <td>64</td>\n",
       "      <td>62</td>\n",
       "      <td>7</td>\n",
       "      <td>2</td>\n",
       "      <td>144</td>\n",
       "      <td>12</td>\n",
       "      <td>103</td>\n",
       "      <td>2</td>\n",
       "      <td>47</td>\n",
       "      <td>...</td>\n",
       "      <td>0</td>\n",
       "      <td>29</td>\n",
       "      <td>54</td>\n",
       "      <td>46</td>\n",
       "      <td>20</td>\n",
       "      <td>7</td>\n",
       "      <td>156</td>\n",
       "      <td>4.7</td>\n",
       "      <td>18.5</td>\n",
       "      <td>5.4</td>\n",
       "    </tr>\n",
       "    <tr>\n",
       "      <th>5</th>\n",
       "      <td>29</td>\n",
       "      <td>73</td>\n",
       "      <td>63</td>\n",
       "      <td>6</td>\n",
       "      <td>2</td>\n",
       "      <td>161</td>\n",
       "      <td>12</td>\n",
       "      <td>126</td>\n",
       "      <td>3</td>\n",
       "      <td>40</td>\n",
       "      <td>...</td>\n",
       "      <td>0</td>\n",
       "      <td>18</td>\n",
       "      <td>80</td>\n",
       "      <td>46</td>\n",
       "      <td>27</td>\n",
       "      <td>2</td>\n",
       "      <td>173</td>\n",
       "      <td>4.6</td>\n",
       "      <td>18.6</td>\n",
       "      <td>5.4</td>\n",
       "    </tr>\n",
       "  </tbody>\n",
       "</table>\n",
       "<p>5 rows × 21 columns</p>\n",
       "</div>"
      ],
      "text/plain": [
       "        VIC_AGE_18  VIC_AGE_18_24  VIC_AGE_25_44  VIC_AGE_45_64  VIC_AGE_65  \\\n",
       "2006 1          15             58             51              5           0   \n",
       "     2          11             38             40              8           0   \n",
       "     3          14             46             36              6           0   \n",
       "     4          21             64             62              7           2   \n",
       "     5          29             73             63              6           2   \n",
       "\n",
       "        VIC_SEX_MALE  VIC_SEX_FEMALE  VIC_RACE_BLACK  VIC_RACE_BLACK_HIS  \\\n",
       "2006 1           123               6              86                   6   \n",
       "     2            91               6              63                   4   \n",
       "     3            96               6              74                   1   \n",
       "     4           144              12             103                   2   \n",
       "     5           161              12             126                   3   \n",
       "\n",
       "        VIC_RACE_WHITE_HIS  ...  VIC_RACE_AMERICAN_ALA  BORO_QUEENS  \\\n",
       "2006 1                  24  ...                      0           18   \n",
       "     2                  21  ...                      0           23   \n",
       "     3                  22  ...                      0            9   \n",
       "     4                  47  ...                      0           29   \n",
       "     5                  40  ...                      0           18   \n",
       "\n",
       "        BORO_BROOKLYN  BORO_BRONX  BORO_MANHATTAN  BORO_STATEN  \\\n",
       "2006 1             49          40              16            6   \n",
       "     2             34          22              16            2   \n",
       "     3             48          27              14            4   \n",
       "     4             54          46              20            7   \n",
       "     5             80          46              27            2   \n",
       "\n",
       "        Number_of_Incident  UnemploymentRate  NY_Empire  GDP  \n",
       "2006 1                 129               4.7       17.5  2.6  \n",
       "     2                  97               4.8       20.9  2.6  \n",
       "     3                 102               4.7       33.2  5.4  \n",
       "     4                 156               4.7       18.5  5.4  \n",
       "     5                 173               4.6       18.6  5.4  \n",
       "\n",
       "[5 rows x 21 columns]"
      ]
     },
     "execution_count": 50,
     "metadata": {},
     "output_type": "execute_result"
    }
   ],
   "source": [
    "final_data.head()"
   ]
  },
  {
   "cell_type": "code",
   "execution_count": 115,
   "metadata": {},
   "outputs": [
    {
     "data": {
      "image/png": "[encoded data removed]",
      "text/plain": [
       "<Figure size 864x576 with 2 Axes>"
      ]
     },
     "metadata": {},
     "output_type": "display_data"
    }
   ],
   "source": [
    "#Visualization of correlation\n",
    "import seaborn as sns\n",
    "import matplotlib.pyplot as plt\n",
    "corr = final_data.corr()\n",
    "mask = np.zeros_like(corr)\n",
    "mask[np.triu_indices_from(mask)] = True\n",
    "with sns.axes_style(\"white\"):\n",
    "    f, ax = plt.subplots(figsize=(12, 8))\n",
    "    ax = sns.heatmap(corr, mask=mask, vmax=.3, square=True, annot= True)"
   ]
  },
  {
   "cell_type": "code",
   "execution_count": null,
   "metadata": {},
   "outputs": [],
   "source": []
  },
  {
   "cell_type": "code",
   "execution_count": 52,
   "metadata": {},
   "outputs": [
    {
     "data": {
      "text/html": [
       "<div>\n",
       "<style scoped>\n",
       "    .dataframe tbody tr th:only-of-type {\n",
       "        vertical-align: middle;\n",
       "    }\n",
       "\n",
       "    .dataframe tbody tr th {\n",
       "        vertical-align: top;\n",
       "    }\n",
       "\n",
       "    .dataframe thead th {\n",
       "        text-align: right;\n",
       "    }\n",
       "</style>\n",
       "<table border=\"1\" class=\"dataframe\">\n",
       "  <thead>\n",
       "    <tr style=\"text-align: right;\">\n",
       "      <th></th>\n",
       "      <th>0</th>\n",
       "      <th>1</th>\n",
       "      <th>2</th>\n",
       "      <th>3</th>\n",
       "      <th>4</th>\n",
       "    </tr>\n",
       "  </thead>\n",
       "  <tbody>\n",
       "    <tr>\n",
       "      <th>VIC_AGE_18</th>\n",
       "      <td>15.0</td>\n",
       "      <td>11.0</td>\n",
       "      <td>14.0</td>\n",
       "      <td>21.0</td>\n",
       "      <td>29.0</td>\n",
       "    </tr>\n",
       "    <tr>\n",
       "      <th>VIC_AGE_18_24</th>\n",
       "      <td>58.0</td>\n",
       "      <td>38.0</td>\n",
       "      <td>46.0</td>\n",
       "      <td>64.0</td>\n",
       "      <td>73.0</td>\n",
       "    </tr>\n",
       "    <tr>\n",
       "      <th>VIC_AGE_25_44</th>\n",
       "      <td>51.0</td>\n",
       "      <td>40.0</td>\n",
       "      <td>36.0</td>\n",
       "      <td>62.0</td>\n",
       "      <td>63.0</td>\n",
       "    </tr>\n",
       "    <tr>\n",
       "      <th>VIC_AGE_45_64</th>\n",
       "      <td>5.0</td>\n",
       "      <td>8.0</td>\n",
       "      <td>6.0</td>\n",
       "      <td>7.0</td>\n",
       "      <td>6.0</td>\n",
       "    </tr>\n",
       "    <tr>\n",
       "      <th>VIC_AGE_65</th>\n",
       "      <td>0.0</td>\n",
       "      <td>0.0</td>\n",
       "      <td>0.0</td>\n",
       "      <td>2.0</td>\n",
       "      <td>2.0</td>\n",
       "    </tr>\n",
       "    <tr>\n",
       "      <th>VIC_SEX_MALE</th>\n",
       "      <td>123.0</td>\n",
       "      <td>91.0</td>\n",
       "      <td>96.0</td>\n",
       "      <td>144.0</td>\n",
       "      <td>161.0</td>\n",
       "    </tr>\n",
       "    <tr>\n",
       "      <th>VIC_SEX_FEMALE</th>\n",
       "      <td>6.0</td>\n",
       "      <td>6.0</td>\n",
       "      <td>6.0</td>\n",
       "      <td>12.0</td>\n",
       "      <td>12.0</td>\n",
       "    </tr>\n",
       "    <tr>\n",
       "      <th>VIC_RACE_BLACK</th>\n",
       "      <td>86.0</td>\n",
       "      <td>63.0</td>\n",
       "      <td>74.0</td>\n",
       "      <td>103.0</td>\n",
       "      <td>126.0</td>\n",
       "    </tr>\n",
       "    <tr>\n",
       "      <th>VIC_RACE_BLACK_HIS</th>\n",
       "      <td>6.0</td>\n",
       "      <td>4.0</td>\n",
       "      <td>1.0</td>\n",
       "      <td>2.0</td>\n",
       "      <td>3.0</td>\n",
       "    </tr>\n",
       "    <tr>\n",
       "      <th>VIC_RACE_WHITE_HIS</th>\n",
       "      <td>24.0</td>\n",
       "      <td>21.0</td>\n",
       "      <td>22.0</td>\n",
       "      <td>47.0</td>\n",
       "      <td>40.0</td>\n",
       "    </tr>\n",
       "    <tr>\n",
       "      <th>VIC_RACE_ASIAN_PAR</th>\n",
       "      <td>6.0</td>\n",
       "      <td>5.0</td>\n",
       "      <td>1.0</td>\n",
       "      <td>1.0</td>\n",
       "      <td>0.0</td>\n",
       "    </tr>\n",
       "    <tr>\n",
       "      <th>VIC_RACE_AMERICAN_ALA</th>\n",
       "      <td>0.0</td>\n",
       "      <td>0.0</td>\n",
       "      <td>0.0</td>\n",
       "      <td>0.0</td>\n",
       "      <td>0.0</td>\n",
       "    </tr>\n",
       "    <tr>\n",
       "      <th>BORO_QUEENS</th>\n",
       "      <td>18.0</td>\n",
       "      <td>23.0</td>\n",
       "      <td>9.0</td>\n",
       "      <td>29.0</td>\n",
       "      <td>18.0</td>\n",
       "    </tr>\n",
       "    <tr>\n",
       "      <th>BORO_BROOKLYN</th>\n",
       "      <td>49.0</td>\n",
       "      <td>34.0</td>\n",
       "      <td>48.0</td>\n",
       "      <td>54.0</td>\n",
       "      <td>80.0</td>\n",
       "    </tr>\n",
       "    <tr>\n",
       "      <th>BORO_BRONX</th>\n",
       "      <td>40.0</td>\n",
       "      <td>22.0</td>\n",
       "      <td>27.0</td>\n",
       "      <td>46.0</td>\n",
       "      <td>46.0</td>\n",
       "    </tr>\n",
       "    <tr>\n",
       "      <th>BORO_MANHATTAN</th>\n",
       "      <td>16.0</td>\n",
       "      <td>16.0</td>\n",
       "      <td>14.0</td>\n",
       "      <td>20.0</td>\n",
       "      <td>27.0</td>\n",
       "    </tr>\n",
       "    <tr>\n",
       "      <th>BORO_STATEN</th>\n",
       "      <td>6.0</td>\n",
       "      <td>2.0</td>\n",
       "      <td>4.0</td>\n",
       "      <td>7.0</td>\n",
       "      <td>2.0</td>\n",
       "    </tr>\n",
       "    <tr>\n",
       "      <th>Number_of_Incident</th>\n",
       "      <td>129.0</td>\n",
       "      <td>97.0</td>\n",
       "      <td>102.0</td>\n",
       "      <td>156.0</td>\n",
       "      <td>173.0</td>\n",
       "    </tr>\n",
       "    <tr>\n",
       "      <th>UnemploymentRate</th>\n",
       "      <td>4.7</td>\n",
       "      <td>4.8</td>\n",
       "      <td>4.7</td>\n",
       "      <td>4.7</td>\n",
       "      <td>4.6</td>\n",
       "    </tr>\n",
       "    <tr>\n",
       "      <th>NY_Empire</th>\n",
       "      <td>17.5</td>\n",
       "      <td>20.9</td>\n",
       "      <td>33.2</td>\n",
       "      <td>18.5</td>\n",
       "      <td>18.6</td>\n",
       "    </tr>\n",
       "    <tr>\n",
       "      <th>GDP</th>\n",
       "      <td>2.6</td>\n",
       "      <td>2.6</td>\n",
       "      <td>5.4</td>\n",
       "      <td>5.4</td>\n",
       "      <td>5.4</td>\n",
       "    </tr>\n",
       "  </tbody>\n",
       "</table>\n",
       "</div>"
      ],
      "text/plain": [
       "                           0     1      2      3      4\n",
       "VIC_AGE_18              15.0  11.0   14.0   21.0   29.0\n",
       "VIC_AGE_18_24           58.0  38.0   46.0   64.0   73.0\n",
       "VIC_AGE_25_44           51.0  40.0   36.0   62.0   63.0\n",
       "VIC_AGE_45_64            5.0   8.0    6.0    7.0    6.0\n",
       "VIC_AGE_65               0.0   0.0    0.0    2.0    2.0\n",
       "VIC_SEX_MALE           123.0  91.0   96.0  144.0  161.0\n",
       "VIC_SEX_FEMALE           6.0   6.0    6.0   12.0   12.0\n",
       "VIC_RACE_BLACK          86.0  63.0   74.0  103.0  126.0\n",
       "VIC_RACE_BLACK_HIS       6.0   4.0    1.0    2.0    3.0\n",
       "VIC_RACE_WHITE_HIS      24.0  21.0   22.0   47.0   40.0\n",
       "VIC_RACE_ASIAN_PAR       6.0   5.0    1.0    1.0    0.0\n",
       "VIC_RACE_AMERICAN_ALA    0.0   0.0    0.0    0.0    0.0\n",
       "BORO_QUEENS             18.0  23.0    9.0   29.0   18.0\n",
       "BORO_BROOKLYN           49.0  34.0   48.0   54.0   80.0\n",
       "BORO_BRONX              40.0  22.0   27.0   46.0   46.0\n",
       "BORO_MANHATTAN          16.0  16.0   14.0   20.0   27.0\n",
       "BORO_STATEN              6.0   2.0    4.0    7.0    2.0\n",
       "Number_of_Incident     129.0  97.0  102.0  156.0  173.0\n",
       "UnemploymentRate         4.7   4.8    4.7    4.7    4.6\n",
       "NY_Empire               17.5  20.9   33.2   18.5   18.6\n",
       "GDP                      2.6   2.6    5.4    5.4    5.4"
      ]
     },
     "execution_count": 52,
     "metadata": {},
     "output_type": "execute_result"
    }
   ],
   "source": [
    "full_df = final_data.reset_index().drop(columns = ['level_0', 'level_1'])\n",
    "full_df.head().T"
   ]
  },
  {
   "cell_type": "code",
   "execution_count": 53,
   "metadata": {},
   "outputs": [],
   "source": [
    "y = full_df.Number_of_Incident\n",
    "X = full_df.drop(columns = ['Number_of_Incident'])"
   ]
  },
  {
   "cell_type": "code",
   "execution_count": 54,
   "metadata": {},
   "outputs": [
    {
     "data": {
      "text/html": [
       "<div>\n",
       "<style scoped>\n",
       "    .dataframe tbody tr th:only-of-type {\n",
       "        vertical-align: middle;\n",
       "    }\n",
       "\n",
       "    .dataframe tbody tr th {\n",
       "        vertical-align: top;\n",
       "    }\n",
       "\n",
       "    .dataframe thead th {\n",
       "        text-align: right;\n",
       "    }\n",
       "</style>\n",
       "<table border=\"1\" class=\"dataframe\">\n",
       "  <thead>\n",
       "    <tr style=\"text-align: right;\">\n",
       "      <th></th>\n",
       "      <th>0</th>\n",
       "      <th>1</th>\n",
       "      <th>2</th>\n",
       "      <th>3</th>\n",
       "      <th>4</th>\n",
       "    </tr>\n",
       "  </thead>\n",
       "  <tbody>\n",
       "    <tr>\n",
       "      <th>VIC_AGE_18</th>\n",
       "      <td>15.0</td>\n",
       "      <td>11.0</td>\n",
       "      <td>14.0</td>\n",
       "      <td>21.0</td>\n",
       "      <td>29.0</td>\n",
       "    </tr>\n",
       "    <tr>\n",
       "      <th>VIC_AGE_18_24</th>\n",
       "      <td>58.0</td>\n",
       "      <td>38.0</td>\n",
       "      <td>46.0</td>\n",
       "      <td>64.0</td>\n",
       "      <td>73.0</td>\n",
       "    </tr>\n",
       "    <tr>\n",
       "      <th>VIC_AGE_25_44</th>\n",
       "      <td>51.0</td>\n",
       "      <td>40.0</td>\n",
       "      <td>36.0</td>\n",
       "      <td>62.0</td>\n",
       "      <td>63.0</td>\n",
       "    </tr>\n",
       "    <tr>\n",
       "      <th>VIC_AGE_45_64</th>\n",
       "      <td>5.0</td>\n",
       "      <td>8.0</td>\n",
       "      <td>6.0</td>\n",
       "      <td>7.0</td>\n",
       "      <td>6.0</td>\n",
       "    </tr>\n",
       "    <tr>\n",
       "      <th>VIC_AGE_65</th>\n",
       "      <td>0.0</td>\n",
       "      <td>0.0</td>\n",
       "      <td>0.0</td>\n",
       "      <td>2.0</td>\n",
       "      <td>2.0</td>\n",
       "    </tr>\n",
       "    <tr>\n",
       "      <th>VIC_SEX_MALE</th>\n",
       "      <td>123.0</td>\n",
       "      <td>91.0</td>\n",
       "      <td>96.0</td>\n",
       "      <td>144.0</td>\n",
       "      <td>161.0</td>\n",
       "    </tr>\n",
       "    <tr>\n",
       "      <th>VIC_SEX_FEMALE</th>\n",
       "      <td>6.0</td>\n",
       "      <td>6.0</td>\n",
       "      <td>6.0</td>\n",
       "      <td>12.0</td>\n",
       "      <td>12.0</td>\n",
       "    </tr>\n",
       "    <tr>\n",
       "      <th>VIC_RACE_BLACK</th>\n",
       "      <td>86.0</td>\n",
       "      <td>63.0</td>\n",
       "      <td>74.0</td>\n",
       "      <td>103.0</td>\n",
       "      <td>126.0</td>\n",
       "    </tr>\n",
       "    <tr>\n",
       "      <th>VIC_RACE_BLACK_HIS</th>\n",
       "      <td>6.0</td>\n",
       "      <td>4.0</td>\n",
       "      <td>1.0</td>\n",
       "      <td>2.0</td>\n",
       "      <td>3.0</td>\n",
       "    </tr>\n",
       "    <tr>\n",
       "      <th>VIC_RACE_WHITE_HIS</th>\n",
       "      <td>24.0</td>\n",
       "      <td>21.0</td>\n",
       "      <td>22.0</td>\n",
       "      <td>47.0</td>\n",
       "      <td>40.0</td>\n",
       "    </tr>\n",
       "    <tr>\n",
       "      <th>VIC_RACE_ASIAN_PAR</th>\n",
       "      <td>6.0</td>\n",
       "      <td>5.0</td>\n",
       "      <td>1.0</td>\n",
       "      <td>1.0</td>\n",
       "      <td>0.0</td>\n",
       "    </tr>\n",
       "    <tr>\n",
       "      <th>VIC_RACE_AMERICAN_ALA</th>\n",
       "      <td>0.0</td>\n",
       "      <td>0.0</td>\n",
       "      <td>0.0</td>\n",
       "      <td>0.0</td>\n",
       "      <td>0.0</td>\n",
       "    </tr>\n",
       "    <tr>\n",
       "      <th>BORO_QUEENS</th>\n",
       "      <td>18.0</td>\n",
       "      <td>23.0</td>\n",
       "      <td>9.0</td>\n",
       "      <td>29.0</td>\n",
       "      <td>18.0</td>\n",
       "    </tr>\n",
       "    <tr>\n",
       "      <th>BORO_BROOKLYN</th>\n",
       "      <td>49.0</td>\n",
       "      <td>34.0</td>\n",
       "      <td>48.0</td>\n",
       "      <td>54.0</td>\n",
       "      <td>80.0</td>\n",
       "    </tr>\n",
       "    <tr>\n",
       "      <th>BORO_BRONX</th>\n",
       "      <td>40.0</td>\n",
       "      <td>22.0</td>\n",
       "      <td>27.0</td>\n",
       "      <td>46.0</td>\n",
       "      <td>46.0</td>\n",
       "    </tr>\n",
       "    <tr>\n",
       "      <th>BORO_MANHATTAN</th>\n",
       "      <td>16.0</td>\n",
       "      <td>16.0</td>\n",
       "      <td>14.0</td>\n",
       "      <td>20.0</td>\n",
       "      <td>27.0</td>\n",
       "    </tr>\n",
       "    <tr>\n",
       "      <th>BORO_STATEN</th>\n",
       "      <td>6.0</td>\n",
       "      <td>2.0</td>\n",
       "      <td>4.0</td>\n",
       "      <td>7.0</td>\n",
       "      <td>2.0</td>\n",
       "    </tr>\n",
       "    <tr>\n",
       "      <th>UnemploymentRate</th>\n",
       "      <td>4.7</td>\n",
       "      <td>4.8</td>\n",
       "      <td>4.7</td>\n",
       "      <td>4.7</td>\n",
       "      <td>4.6</td>\n",
       "    </tr>\n",
       "    <tr>\n",
       "      <th>NY_Empire</th>\n",
       "      <td>17.5</td>\n",
       "      <td>20.9</td>\n",
       "      <td>33.2</td>\n",
       "      <td>18.5</td>\n",
       "      <td>18.6</td>\n",
       "    </tr>\n",
       "    <tr>\n",
       "      <th>GDP</th>\n",
       "      <td>2.6</td>\n",
       "      <td>2.6</td>\n",
       "      <td>5.4</td>\n",
       "      <td>5.4</td>\n",
       "      <td>5.4</td>\n",
       "    </tr>\n",
       "  </tbody>\n",
       "</table>\n",
       "</div>"
      ],
      "text/plain": [
       "                           0     1     2      3      4\n",
       "VIC_AGE_18              15.0  11.0  14.0   21.0   29.0\n",
       "VIC_AGE_18_24           58.0  38.0  46.0   64.0   73.0\n",
       "VIC_AGE_25_44           51.0  40.0  36.0   62.0   63.0\n",
       "VIC_AGE_45_64            5.0   8.0   6.0    7.0    6.0\n",
       "VIC_AGE_65               0.0   0.0   0.0    2.0    2.0\n",
       "VIC_SEX_MALE           123.0  91.0  96.0  144.0  161.0\n",
       "VIC_SEX_FEMALE           6.0   6.0   6.0   12.0   12.0\n",
       "VIC_RACE_BLACK          86.0  63.0  74.0  103.0  126.0\n",
       "VIC_RACE_BLACK_HIS       6.0   4.0   1.0    2.0    3.0\n",
       "VIC_RACE_WHITE_HIS      24.0  21.0  22.0   47.0   40.0\n",
       "VIC_RACE_ASIAN_PAR       6.0   5.0   1.0    1.0    0.0\n",
       "VIC_RACE_AMERICAN_ALA    0.0   0.0   0.0    0.0    0.0\n",
       "BORO_QUEENS             18.0  23.0   9.0   29.0   18.0\n",
       "BORO_BROOKLYN           49.0  34.0  48.0   54.0   80.0\n",
       "BORO_BRONX              40.0  22.0  27.0   46.0   46.0\n",
       "BORO_MANHATTAN          16.0  16.0  14.0   20.0   27.0\n",
       "BORO_STATEN              6.0   2.0   4.0    7.0    2.0\n",
       "UnemploymentRate         4.7   4.8   4.7    4.7    4.6\n",
       "NY_Empire               17.5  20.9  33.2   18.5   18.6\n",
       "GDP                      2.6   2.6   5.4    5.4    5.4"
      ]
     },
     "execution_count": 54,
     "metadata": {},
     "output_type": "execute_result"
    }
   ],
   "source": [
    "X.head().T"
   ]
  },
  {
   "cell_type": "code",
   "execution_count": 55,
   "metadata": {},
   "outputs": [
    {
     "data": {
      "image/png": "[encoded data removed]",
      "text/plain": [
       "<Figure size 432x288 with 1 Axes>"
      ]
     },
     "metadata": {
      "needs_background": "light"
     },
     "output_type": "display_data"
    }
   ],
   "source": [
    "#Simple linear regression\n",
    "from sklearn.model_selection import train_test_split\n",
    "\n",
    "X_train, X_test, y_train, y_test = train_test_split(X, y, test_size = 0.2, random_state =42)\n",
    "\n",
    "\n",
    "from sklearn.linear_model import LinearRegression\n",
    "model = LinearRegression(n_jobs =1)\n",
    "model.fit(X_train, y_train)\n",
    "\n",
    "plt.scatter(model.predict(X_train), model.predict(X_train) - y_train, c = \"blue\", label = \"training data\")\n",
    "plt.scatter(model.predict(X_test), model.predict(X_test) - y_test, c = \"orange\", label = \"testing data\")\n",
    "plt.title(\"Residual Plot\")\n",
    "plt.show()"
   ]
  },
  {
   "cell_type": "code",
   "execution_count": 58,
   "metadata": {},
   "outputs": [
    {
     "name": "stdout",
     "output_type": "stream",
     "text": [
      "1.0\n",
      "1.782915801331512e-27\n",
      "4.222458763956745e-14\n",
      "1.0\n"
     ]
    }
   ],
   "source": [
    "from sklearn.metrics import mean_squared_error, r2_score\n",
    "import numpy as np\n",
    "\n",
    "#score = model.score(X, y, sample_weight=None)\n",
    "r2 = model.score(X_train, model.predict(X_train))\n",
    "mse = mean_squared_error(y_test, model.predict(X_test)) #\n",
    "rmse = np.sqrt(mse)\n",
    "r2_adjusted = 1 - (1-r2)*(len(y)-1)/(len(y)-X.shape[1]-1)\n",
    "#std = np.std(y)\n",
    "print(r2)\n",
    "print(mse)\n",
    "print(rmse)\n",
    "print(r2_adjusted)"
   ]
  },
  {
   "cell_type": "code",
   "execution_count": 59,
   "metadata": {},
   "outputs": [],
   "source": [
    "# PCA \n",
    "from sklearn.preprocessing import StandardScaler\n",
    "from sklearn.decomposition import PCA\n"
   ]
  },
  {
   "cell_type": "code",
   "execution_count": 60,
   "metadata": {},
   "outputs": [
    {
     "data": {
      "text/plain": [
       "0    129\n",
       "1     97\n",
       "2    102\n",
       "3    156\n",
       "4    173\n",
       "Name: Number_of_Incident, dtype: int64"
      ]
     },
     "execution_count": 60,
     "metadata": {},
     "output_type": "execute_result"
    }
   ],
   "source": [
    "y.head()"
   ]
  },
  {
   "cell_type": "code",
   "execution_count": 61,
   "metadata": {},
   "outputs": [
    {
     "data": {
      "text/plain": [
       "array([[ 0.11866273,  0.38884457, -0.21035248, -0.85175775, -0.88195388,\n",
       "         0.15542101, -0.85980998, -0.15061989, -0.86731795,  0.58845059,\n",
       "         2.51956053, -0.21021383, -0.13985976, -0.15466149,  0.21723795,\n",
       "         0.02365833,  0.81157133, -0.69998439,  0.75599191,  0.31602605],\n",
       "       [-0.33512441, -0.51993925, -0.75222952, -0.06342877, -0.88195388,\n",
       "        -0.56874987, -0.85980998, -0.76444962, -1.14195549,  0.27210537,\n",
       "         1.93502249, -0.21021383,  0.44513057, -0.78935721, -0.93206823,\n",
       "         0.02365833, -0.68671421, -0.65499093,  0.98064773,  0.31602605]])"
      ]
     },
     "execution_count": 61,
     "metadata": {},
     "output_type": "execute_result"
    }
   ],
   "source": [
    "X_scaled = StandardScaler().fit_transform(X)\n",
    "X_scaled[0:2]"
   ]
  },
  {
   "cell_type": "code",
   "execution_count": 62,
   "metadata": {},
   "outputs": [],
   "source": [
    "#pd.DataFrame(X_scaled).to_csv(\"X_scaled.csv\")\n",
    "#y.to_csv('y.csv')"
   ]
  },
  {
   "cell_type": "code",
   "execution_count": 63,
   "metadata": {},
   "outputs": [],
   "source": [
    "# determine the number of principal components by linear regression\n",
    "def pcr(X,y,n):\n",
    "    from sklearn.linear_model import LinearRegression\n",
    "    from sklearn.model_selection import cross_val_predict\n",
    "    from sklearn.metrics import r2_score,mean_squared_error\n",
    "    score_c = []\n",
    "    score_cv= []\n",
    "    mse_c = []\n",
    "    mse_cv = []\n",
    "    for i in range(1,n+1):\n",
    "        pca = PCA(n_components= i )\n",
    "        X_pca = pca.fit_transform(X)\n",
    "\n",
    "        regr = LinearRegression()\n",
    "# Fit\n",
    "        regr.fit(X_pca, y)\n",
    "# Calibration\n",
    "        y_c = regr.predict(X_pca)\n",
    "# Cross-validation\n",
    "        y_cv = cross_val_predict(regr, X_pca, y, cv=100)\n",
    "# Calculate scores for calibration and cross-validation\n",
    "        score_c.append(r2_score(y, y_c))\n",
    "        score_cv.append(r2_score(y, y_cv))\n",
    "# Calculate mean square error for calibration and cross validation\n",
    "        mse_c.append(mean_squared_error(y, y_c))\n",
    "        mse_cv.append(mean_squared_error(y, y_cv))\n",
    "    return(y_cv, score_c, score_cv, mse_c, mse_cv)"
   ]
  },
  {
   "cell_type": "code",
   "execution_count": 64,
   "metadata": {},
   "outputs": [],
   "source": [
    "y_cv, score_c, score_cv, mse_c, mse_cv = pcr(X_scaled,y,20)"
   ]
  },
  {
   "cell_type": "code",
   "execution_count": 65,
   "metadata": {},
   "outputs": [
    {
     "data": {
      "text/plain": [
       "<AxesSubplot:>"
      ]
     },
     "execution_count": 65,
     "metadata": {},
     "output_type": "execute_result"
    },
    {
     "data": {
      "image/png": "[encoded data removed]",
      "text/plain": [
       "<Figure size 864x576 with 1 Axes>"
      ]
     },
     "metadata": {
      "needs_background": "light"
     },
     "output_type": "display_data"
    }
   ],
   "source": [
    "mse = {\"MSE for regresion\": mse_c, \"MSE for cross_validation\": mse_cv}\n",
    "mse = pd.DataFrame(mse)\n",
    "mse.plot(figsize = (12,8))"
   ]
  },
  {
   "cell_type": "code",
   "execution_count": 66,
   "metadata": {},
   "outputs": [
    {
     "data": {
      "text/plain": [
       "<AxesSubplot:>"
      ]
     },
     "execution_count": 66,
     "metadata": {},
     "output_type": "execute_result"
    },
    {
     "data": {
      "image/png": "[encoded data removed]",
      "text/plain": [
       "<Figure size 864x576 with 1 Axes>"
      ]
     },
     "metadata": {
      "needs_background": "light"
     },
     "output_type": "display_data"
    }
   ],
   "source": [
    "r2 = {\"r2 for regresion\": score_c, \"r2 for cross_validation\": score_cv}\n",
    "r2 = pd.DataFrame(r2)\n",
    "r2.plot(figsize = (12, 8))"
   ]
  },
  {
   "cell_type": "code",
   "execution_count": null,
   "metadata": {},
   "outputs": [],
   "source": []
  },
  {
   "cell_type": "code",
   "execution_count": 67,
   "metadata": {},
   "outputs": [],
   "source": [
    "pca = PCA(n_components=13)\n",
    "X_scaled_pca = pca.fit_transform(X_scaled)\n"
   ]
  },
  {
   "cell_type": "code",
   "execution_count": 68,
   "metadata": {},
   "outputs": [
    {
     "data": {
      "text/html": [
       "<div>\n",
       "<style scoped>\n",
       "    .dataframe tbody tr th:only-of-type {\n",
       "        vertical-align: middle;\n",
       "    }\n",
       "\n",
       "    .dataframe tbody tr th {\n",
       "        vertical-align: top;\n",
       "    }\n",
       "\n",
       "    .dataframe thead th {\n",
       "        text-align: right;\n",
       "    }\n",
       "</style>\n",
       "<table border=\"1\" class=\"dataframe\">\n",
       "  <thead>\n",
       "    <tr style=\"text-align: right;\">\n",
       "      <th></th>\n",
       "      <th>Principal Component 1</th>\n",
       "      <th>Principal Component 2</th>\n",
       "      <th>Principal Component 3</th>\n",
       "      <th>Principal Component 4</th>\n",
       "      <th>Principal Component 5</th>\n",
       "      <th>Principal Component 6</th>\n",
       "      <th>Principal Component 7</th>\n",
       "      <th>Principal Component 8</th>\n",
       "      <th>Principal Component 9</th>\n",
       "      <th>Principal Component 10</th>\n",
       "      <th>Principal Component 11</th>\n",
       "      <th>Principal Component 12</th>\n",
       "      <th>Principal Component 13</th>\n",
       "    </tr>\n",
       "  </thead>\n",
       "  <tbody>\n",
       "    <tr>\n",
       "      <th>0</th>\n",
       "      <td>-0.265767</td>\n",
       "      <td>-0.667512</td>\n",
       "      <td>-1.445255</td>\n",
       "      <td>0.434695</td>\n",
       "      <td>0.184588</td>\n",
       "      <td>1.372831</td>\n",
       "      <td>-1.330957</td>\n",
       "      <td>-1.872806</td>\n",
       "      <td>-0.206946</td>\n",
       "      <td>0.527697</td>\n",
       "      <td>-0.362081</td>\n",
       "      <td>-0.594239</td>\n",
       "      <td>-0.813188</td>\n",
       "    </tr>\n",
       "    <tr>\n",
       "      <th>1</th>\n",
       "      <td>-1.847229</td>\n",
       "      <td>-0.695020</td>\n",
       "      <td>-1.574309</td>\n",
       "      <td>-0.056044</td>\n",
       "      <td>0.856821</td>\n",
       "      <td>0.332429</td>\n",
       "      <td>0.076041</td>\n",
       "      <td>-1.637616</td>\n",
       "      <td>-0.751090</td>\n",
       "      <td>0.589911</td>\n",
       "      <td>-0.872347</td>\n",
       "      <td>-0.744782</td>\n",
       "      <td>-0.149603</td>\n",
       "    </tr>\n",
       "    <tr>\n",
       "      <th>2</th>\n",
       "      <td>-2.122937</td>\n",
       "      <td>-2.207385</td>\n",
       "      <td>-0.132410</td>\n",
       "      <td>0.700365</td>\n",
       "      <td>0.035621</td>\n",
       "      <td>0.031346</td>\n",
       "      <td>-0.855120</td>\n",
       "      <td>-0.535735</td>\n",
       "      <td>0.207306</td>\n",
       "      <td>0.492460</td>\n",
       "      <td>-0.578597</td>\n",
       "      <td>0.651151</td>\n",
       "      <td>-0.531642</td>\n",
       "    </tr>\n",
       "    <tr>\n",
       "      <th>3</th>\n",
       "      <td>1.785256</td>\n",
       "      <td>-2.214698</td>\n",
       "      <td>-0.925720</td>\n",
       "      <td>2.036858</td>\n",
       "      <td>-1.999950</td>\n",
       "      <td>-0.540629</td>\n",
       "      <td>0.220186</td>\n",
       "      <td>-0.563512</td>\n",
       "      <td>-1.224599</td>\n",
       "      <td>0.435032</td>\n",
       "      <td>-0.397470</td>\n",
       "      <td>0.421703</td>\n",
       "      <td>-0.650979</td>\n",
       "    </tr>\n",
       "    <tr>\n",
       "      <th>4</th>\n",
       "      <td>2.250606</td>\n",
       "      <td>-2.657636</td>\n",
       "      <td>-0.119345</td>\n",
       "      <td>1.158663</td>\n",
       "      <td>-1.466591</td>\n",
       "      <td>-1.688618</td>\n",
       "      <td>-0.168515</td>\n",
       "      <td>-1.270445</td>\n",
       "      <td>0.138697</td>\n",
       "      <td>-1.036017</td>\n",
       "      <td>-0.257520</td>\n",
       "      <td>0.818915</td>\n",
       "      <td>-0.269538</td>\n",
       "    </tr>\n",
       "  </tbody>\n",
       "</table>\n",
       "</div>"
      ],
      "text/plain": [
       "   Principal Component 1  Principal Component 2  Principal Component 3  \\\n",
       "0              -0.265767              -0.667512              -1.445255   \n",
       "1              -1.847229              -0.695020              -1.574309   \n",
       "2              -2.122937              -2.207385              -0.132410   \n",
       "3               1.785256              -2.214698              -0.925720   \n",
       "4               2.250606              -2.657636              -0.119345   \n",
       "\n",
       "   Principal Component 4  Principal Component 5  Principal Component 6  \\\n",
       "0               0.434695               0.184588               1.372831   \n",
       "1              -0.056044               0.856821               0.332429   \n",
       "2               0.700365               0.035621               0.031346   \n",
       "3               2.036858              -1.999950              -0.540629   \n",
       "4               1.158663              -1.466591              -1.688618   \n",
       "\n",
       "   Principal Component 7  Principal Component 8  Principal Component 9  \\\n",
       "0              -1.330957              -1.872806              -0.206946   \n",
       "1               0.076041              -1.637616              -0.751090   \n",
       "2              -0.855120              -0.535735               0.207306   \n",
       "3               0.220186              -0.563512              -1.224599   \n",
       "4              -0.168515              -1.270445               0.138697   \n",
       "\n",
       "   Principal Component 10  Principal Component 11  Principal Component 12  \\\n",
       "0                0.527697               -0.362081               -0.594239   \n",
       "1                0.589911               -0.872347               -0.744782   \n",
       "2                0.492460               -0.578597                0.651151   \n",
       "3                0.435032               -0.397470                0.421703   \n",
       "4               -1.036017               -0.257520                0.818915   \n",
       "\n",
       "   Principal Component 13  \n",
       "0               -0.813188  \n",
       "1               -0.149603  \n",
       "2               -0.531642  \n",
       "3               -0.650979  \n",
       "4               -0.269538  "
      ]
     },
     "execution_count": 68,
     "metadata": {},
     "output_type": "execute_result"
    }
   ],
   "source": [
    "df_pca = pd.DataFrame(\n",
    "    data=X_scaled_pca, columns=[\"Principal Component 1\", \"Principal Component 2\",\"Principal Component 3\",\n",
    "                               \"Principal Component 4\",\"Principal Component 5\",\"Principal Component 6\",\n",
    "                               \"Principal Component 7\",\"Principal Component 8\",\"Principal Component 9\",\n",
    "                               \"Principal Component 10\",\"Principal Component 11\",\"Principal Component 12\",\n",
    "                                \"Principal Component 13\"]\n",
    ")\n",
    "df_pca.head()"
   ]
  },
  {
   "cell_type": "code",
   "execution_count": 69,
   "metadata": {},
   "outputs": [
    {
     "data": {
      "text/plain": [
       "(174, 13)"
      ]
     },
     "execution_count": 69,
     "metadata": {},
     "output_type": "execute_result"
    }
   ],
   "source": [
    "df_pca.shape"
   ]
  },
  {
   "cell_type": "code",
   "execution_count": 70,
   "metadata": {},
   "outputs": [
    {
     "data": {
      "text/plain": [
       "(174,)"
      ]
     },
     "execution_count": 70,
     "metadata": {},
     "output_type": "execute_result"
    }
   ],
   "source": [
    "y.shape"
   ]
  },
  {
   "cell_type": "code",
   "execution_count": 71,
   "metadata": {},
   "outputs": [
    {
     "data": {
      "text/plain": [
       "array([48.32,  8.49,  6.34,  5.48,  5.17,  4.52,  3.66,  3.33,  2.57,\n",
       "        2.49,  1.99,  1.78,  1.62])"
      ]
     },
     "execution_count": 71,
     "metadata": {},
     "output_type": "execute_result"
    }
   ],
   "source": [
    "np.round(pca.explained_variance_ratio_, decimals=4)*100"
   ]
  },
  {
   "cell_type": "code",
   "execution_count": 72,
   "metadata": {},
   "outputs": [
    {
     "data": {
      "text/plain": [
       "array([48.32, 56.81, 63.15, 68.63, 73.8 , 78.32, 81.98, 85.31, 87.88,\n",
       "       90.37, 92.36, 94.14, 95.76])"
      ]
     },
     "execution_count": 72,
     "metadata": {},
     "output_type": "execute_result"
    }
   ],
   "source": [
    "np.cumsum(np.round(pca.explained_variance_ratio_, decimals=4)*100)\n",
    "\n"
   ]
  },
  {
   "cell_type": "code",
   "execution_count": 73,
   "metadata": {},
   "outputs": [],
   "source": [
    "df_variance = {\"Variance\": np.round(pca.explained_variance_ratio_, decimals=4)*100, \n",
    "            \"Accumulative Variance\": np.cumsum(np.round(pca.explained_variance_ratio_, decimals=4)*100)}"
   ]
  },
  {
   "cell_type": "code",
   "execution_count": 74,
   "metadata": {},
   "outputs": [
    {
     "data": {
      "text/html": [
       "<div>\n",
       "<style scoped>\n",
       "    .dataframe tbody tr th:only-of-type {\n",
       "        vertical-align: middle;\n",
       "    }\n",
       "\n",
       "    .dataframe tbody tr th {\n",
       "        vertical-align: top;\n",
       "    }\n",
       "\n",
       "    .dataframe thead th {\n",
       "        text-align: right;\n",
       "    }\n",
       "</style>\n",
       "<table border=\"1\" class=\"dataframe\">\n",
       "  <thead>\n",
       "    <tr style=\"text-align: right;\">\n",
       "      <th></th>\n",
       "      <th>Variance</th>\n",
       "      <th>Accumulative Variance</th>\n",
       "    </tr>\n",
       "  </thead>\n",
       "  <tbody>\n",
       "    <tr>\n",
       "      <th>Principal Component 1</th>\n",
       "      <td>48.32</td>\n",
       "      <td>48.32</td>\n",
       "    </tr>\n",
       "    <tr>\n",
       "      <th>Principal Component 2</th>\n",
       "      <td>8.49</td>\n",
       "      <td>56.81</td>\n",
       "    </tr>\n",
       "    <tr>\n",
       "      <th>Principal Component 3</th>\n",
       "      <td>6.34</td>\n",
       "      <td>63.15</td>\n",
       "    </tr>\n",
       "    <tr>\n",
       "      <th>Principal Component 4</th>\n",
       "      <td>5.48</td>\n",
       "      <td>68.63</td>\n",
       "    </tr>\n",
       "    <tr>\n",
       "      <th>Principal Component 5</th>\n",
       "      <td>5.17</td>\n",
       "      <td>73.80</td>\n",
       "    </tr>\n",
       "    <tr>\n",
       "      <th>Principal Component 6</th>\n",
       "      <td>4.52</td>\n",
       "      <td>78.32</td>\n",
       "    </tr>\n",
       "    <tr>\n",
       "      <th>Principal Component 7</th>\n",
       "      <td>3.66</td>\n",
       "      <td>81.98</td>\n",
       "    </tr>\n",
       "    <tr>\n",
       "      <th>Principal Component 8</th>\n",
       "      <td>3.33</td>\n",
       "      <td>85.31</td>\n",
       "    </tr>\n",
       "    <tr>\n",
       "      <th>Principal Component 9</th>\n",
       "      <td>2.57</td>\n",
       "      <td>87.88</td>\n",
       "    </tr>\n",
       "    <tr>\n",
       "      <th>Principal Component 10</th>\n",
       "      <td>2.49</td>\n",
       "      <td>90.37</td>\n",
       "    </tr>\n",
       "    <tr>\n",
       "      <th>Principal Component 11</th>\n",
       "      <td>1.99</td>\n",
       "      <td>92.36</td>\n",
       "    </tr>\n",
       "    <tr>\n",
       "      <th>Principal Component 12</th>\n",
       "      <td>1.78</td>\n",
       "      <td>94.14</td>\n",
       "    </tr>\n",
       "    <tr>\n",
       "      <th>Principal Component 13</th>\n",
       "      <td>1.62</td>\n",
       "      <td>95.76</td>\n",
       "    </tr>\n",
       "  </tbody>\n",
       "</table>\n",
       "</div>"
      ],
      "text/plain": [
       "                        Variance  Accumulative Variance\n",
       "Principal Component 1      48.32                  48.32\n",
       "Principal Component 2       8.49                  56.81\n",
       "Principal Component 3       6.34                  63.15\n",
       "Principal Component 4       5.48                  68.63\n",
       "Principal Component 5       5.17                  73.80\n",
       "Principal Component 6       4.52                  78.32\n",
       "Principal Component 7       3.66                  81.98\n",
       "Principal Component 8       3.33                  85.31\n",
       "Principal Component 9       2.57                  87.88\n",
       "Principal Component 10      2.49                  90.37\n",
       "Principal Component 11      1.99                  92.36\n",
       "Principal Component 12      1.78                  94.14\n",
       "Principal Component 13      1.62                  95.76"
      ]
     },
     "execution_count": 74,
     "metadata": {},
     "output_type": "execute_result"
    }
   ],
   "source": [
    "df_variance = pd.DataFrame(df_variance,index = df_pca.columns)\n",
    "df_variance"
   ]
  },
  {
   "cell_type": "code",
   "execution_count": 75,
   "metadata": {},
   "outputs": [],
   "source": [
    "# Data split \n",
    "from sklearn.model_selection import train_test_split\n",
    "\n",
    "X_train, X_test, y_train, y_test = train_test_split(df_pca, \n",
    "                                                    y, \n",
    "                                                    random_state=42, \n",
    "                                                   )"
   ]
  },
  {
   "cell_type": "code",
   "execution_count": 76,
   "metadata": {},
   "outputs": [],
   "source": [
    "# linear regression \n",
    "from sklearn.linear_model import LinearRegression\n",
    "model_lr = LinearRegression()\n",
    "model_lr.fit(X_train, y_train)\n",
    "predicted_lr = model_lr.predict(X_test)\n",
    "\n"
   ]
  },
  {
   "cell_type": "code",
   "execution_count": 77,
   "metadata": {},
   "outputs": [],
   "source": [
    "# Linear Regression evaluation\n",
    "from sklearn.metrics import r2_score,mean_squared_error\n",
    "score_lr = model_lr.score(X_train, y_train, sample_weight=None)\n",
    "r2__lr = r2_score(y_test, predicted_lr)\n",
    "mse_lr = mean_squared_error(y_test\n",
    "                            , predicted_lr)\n",
    "rmse_lr = np.sqrt(mse_lr)"
   ]
  },
  {
   "cell_type": "code",
   "execution_count": 78,
   "metadata": {},
   "outputs": [],
   "source": [
    "linear_reg = pd.DataFrame({'Model Score':score_lr,\"r2 stat\":r2__lr,'MSE':mse_lr,\"Root MSE\": rmse_lr },index=[0]).T\n",
    "linear_reg.columns = ['Metrics for linear regression']"
   ]
  },
  {
   "cell_type": "code",
   "execution_count": 79,
   "metadata": {},
   "outputs": [
    {
     "data": {
      "text/html": [
       "<div>\n",
       "<style scoped>\n",
       "    .dataframe tbody tr th:only-of-type {\n",
       "        vertical-align: middle;\n",
       "    }\n",
       "\n",
       "    .dataframe tbody tr th {\n",
       "        vertical-align: top;\n",
       "    }\n",
       "\n",
       "    .dataframe thead th {\n",
       "        text-align: right;\n",
       "    }\n",
       "</style>\n",
       "<table border=\"1\" class=\"dataframe\">\n",
       "  <thead>\n",
       "    <tr style=\"text-align: right;\">\n",
       "      <th></th>\n",
       "      <th>Metrics for linear regression</th>\n",
       "    </tr>\n",
       "  </thead>\n",
       "  <tbody>\n",
       "    <tr>\n",
       "      <th>Model Score</th>\n",
       "      <td>0.996606</td>\n",
       "    </tr>\n",
       "    <tr>\n",
       "      <th>r2 stat</th>\n",
       "      <td>0.994564</td>\n",
       "    </tr>\n",
       "    <tr>\n",
       "      <th>MSE</th>\n",
       "      <td>16.556221</td>\n",
       "    </tr>\n",
       "    <tr>\n",
       "      <th>Root MSE</th>\n",
       "      <td>4.068934</td>\n",
       "    </tr>\n",
       "  </tbody>\n",
       "</table>\n",
       "</div>"
      ],
      "text/plain": [
       "             Metrics for linear regression\n",
       "Model Score                       0.996606\n",
       "r2 stat                           0.994564\n",
       "MSE                              16.556221\n",
       "Root MSE                          4.068934"
      ]
     },
     "execution_count": 79,
     "metadata": {},
     "output_type": "execute_result"
    }
   ],
   "source": [
    "linear_reg"
   ]
  },
  {
   "cell_type": "code",
   "execution_count": 80,
   "metadata": {},
   "outputs": [
    {
     "data": {
      "image/png": "[encoded data removed]",
      "text/plain": [
       "<Figure size 432x288 with 1 Axes>"
      ]
     },
     "metadata": {
      "needs_background": "light"
     },
     "output_type": "display_data"
    }
   ],
   "source": [
    "plt.scatter(model_lr.predict(X_train), model_lr.predict(X_train) - y_train, c = \"blue\", label = \"training data\")\n",
    "plt.scatter(model_lr.predict(X_test), model_lr.predict(X_test) - y_test, c = \"orange\", label = \"testing data\")\n",
    "plt.title(\"Residual Plot\")\n",
    "plt.show()"
   ]
  },
  {
   "cell_type": "code",
   "execution_count": null,
   "metadata": {},
   "outputs": [],
   "source": []
  },
  {
   "cell_type": "code",
   "execution_count": null,
   "metadata": {},
   "outputs": [],
   "source": []
  },
  {
   "cell_type": "code",
   "execution_count": 81,
   "metadata": {},
   "outputs": [],
   "source": [
    "#Decision Tree Regression\n",
    "model_dt = DecisionTreeRegressor(criterion='mse',splitter=\"best\")\n",
    "model_dt.fit(X_train,y_train)\n",
    "predicted_dt = model_dt.predict(X_test)\n"
   ]
  },
  {
   "cell_type": "code",
   "execution_count": 82,
   "metadata": {},
   "outputs": [],
   "source": [
    "# Decision Tree evaluation\n",
    "score_dt = model_dt.score(X_train, y_train, sample_weight=None)\n",
    "r2__dt = r2_score(y_test, predicted_dt)\n",
    "mse_dt = mean_squared_error(y_test\n",
    "                            , predicted_dt)\n",
    "rmse_dt = np.sqrt(mse_dt)"
   ]
  },
  {
   "cell_type": "code",
   "execution_count": 83,
   "metadata": {},
   "outputs": [],
   "source": [
    "dt_reg = pd.DataFrame({'Model Score':score_dt,\"r2 stat\":r2__dt,'MSE':mse_dt,\"Root MSE\": rmse_dt },index=[0]).T\n",
    "dt_reg.columns = ['Metrics for decision tree regression']"
   ]
  },
  {
   "cell_type": "code",
   "execution_count": 84,
   "metadata": {},
   "outputs": [
    {
     "data": {
      "text/html": [
       "<div>\n",
       "<style scoped>\n",
       "    .dataframe tbody tr th:only-of-type {\n",
       "        vertical-align: middle;\n",
       "    }\n",
       "\n",
       "    .dataframe tbody tr th {\n",
       "        vertical-align: top;\n",
       "    }\n",
       "\n",
       "    .dataframe thead th {\n",
       "        text-align: right;\n",
       "    }\n",
       "</style>\n",
       "<table border=\"1\" class=\"dataframe\">\n",
       "  <thead>\n",
       "    <tr style=\"text-align: right;\">\n",
       "      <th></th>\n",
       "      <th>Metrics for decision tree regression</th>\n",
       "    </tr>\n",
       "  </thead>\n",
       "  <tbody>\n",
       "    <tr>\n",
       "      <th>Model Score</th>\n",
       "      <td>1.000000</td>\n",
       "    </tr>\n",
       "    <tr>\n",
       "      <th>r2 stat</th>\n",
       "      <td>0.966801</td>\n",
       "    </tr>\n",
       "    <tr>\n",
       "      <th>MSE</th>\n",
       "      <td>101.113636</td>\n",
       "    </tr>\n",
       "    <tr>\n",
       "      <th>Root MSE</th>\n",
       "      <td>10.055528</td>\n",
       "    </tr>\n",
       "  </tbody>\n",
       "</table>\n",
       "</div>"
      ],
      "text/plain": [
       "             Metrics for decision tree regression\n",
       "Model Score                              1.000000\n",
       "r2 stat                                  0.966801\n",
       "MSE                                    101.113636\n",
       "Root MSE                                10.055528"
      ]
     },
     "execution_count": 84,
     "metadata": {},
     "output_type": "execute_result"
    }
   ],
   "source": [
    "dt_reg"
   ]
  },
  {
   "cell_type": "code",
   "execution_count": 85,
   "metadata": {},
   "outputs": [],
   "source": [
    "#Random Forest Regression\n",
    "model_rf = RandomForestRegressor(n_estimators= 100, criterion= \"mse\")\n",
    "model_rf.fit(X_train,y_train)\n",
    "predicted_rf= model_rf.predict(X_test)"
   ]
  },
  {
   "cell_type": "code",
   "execution_count": 86,
   "metadata": {},
   "outputs": [],
   "source": [
    "# Random forest evaluation\n",
    "score_rf = model_rf.score(X_train, y_train, sample_weight=None)\n",
    "r2__rf = r2_score(y_test, predicted_rf)\n",
    "mse_rf = mean_squared_error(y_test\n",
    "                            , predicted_rf)\n",
    "rmse_rf = np.sqrt(mse_rf)"
   ]
  },
  {
   "cell_type": "code",
   "execution_count": 87,
   "metadata": {},
   "outputs": [],
   "source": [
    "rf_reg = pd.DataFrame({'Model Score':score_rf,\"r2 stat\":r2__rf,'MSE':mse_rf,\"Root MSE\": rmse_rf },index=[0]).T\n",
    "rf_reg.columns = ['Metrics for  random forest regression']"
   ]
  },
  {
   "cell_type": "code",
   "execution_count": 88,
   "metadata": {},
   "outputs": [
    {
     "data": {
      "text/html": [
       "<div>\n",
       "<style scoped>\n",
       "    .dataframe tbody tr th:only-of-type {\n",
       "        vertical-align: middle;\n",
       "    }\n",
       "\n",
       "    .dataframe tbody tr th {\n",
       "        vertical-align: top;\n",
       "    }\n",
       "\n",
       "    .dataframe thead th {\n",
       "        text-align: right;\n",
       "    }\n",
       "</style>\n",
       "<table border=\"1\" class=\"dataframe\">\n",
       "  <thead>\n",
       "    <tr style=\"text-align: right;\">\n",
       "      <th></th>\n",
       "      <th>Metrics for  random forest regression</th>\n",
       "    </tr>\n",
       "  </thead>\n",
       "  <tbody>\n",
       "    <tr>\n",
       "      <th>Model Score</th>\n",
       "      <td>0.996054</td>\n",
       "    </tr>\n",
       "    <tr>\n",
       "      <th>r2 stat</th>\n",
       "      <td>0.983223</td>\n",
       "    </tr>\n",
       "    <tr>\n",
       "      <th>MSE</th>\n",
       "      <td>51.096634</td>\n",
       "    </tr>\n",
       "    <tr>\n",
       "      <th>Root MSE</th>\n",
       "      <td>7.148191</td>\n",
       "    </tr>\n",
       "  </tbody>\n",
       "</table>\n",
       "</div>"
      ],
      "text/plain": [
       "             Metrics for  random forest regression\n",
       "Model Score                               0.996054\n",
       "r2 stat                                   0.983223\n",
       "MSE                                      51.096634\n",
       "Root MSE                                  7.148191"
      ]
     },
     "execution_count": 88,
     "metadata": {},
     "output_type": "execute_result"
    }
   ],
   "source": [
    "rf_reg"
   ]
  },
  {
   "cell_type": "code",
   "execution_count": 89,
   "metadata": {},
   "outputs": [
    {
     "data": {
      "text/plain": [
       "<AxesSubplot:title={'center':'Feature Importance'}, xlabel='1'>"
      ]
     },
     "execution_count": 89,
     "metadata": {},
     "output_type": "execute_result"
    },
    {
     "data": {
      "image/png": "[encoded data removed]",
      "text/plain": [
       "<Figure size 864x576 with 1 Axes>"
      ]
     },
     "metadata": {
      "needs_background": "light"
     },
     "output_type": "display_data"
    }
   ],
   "source": [
    "#feature importance\n",
    "importance_df = pd.DataFrame(sorted(zip(model_rf.feature_importances_,X_train.columns),reverse = True))\n",
    "importance_df.set_index(importance_df[1],inplace = True)\n",
    "importance_df.drop(columns = 1,inplace = True)\n",
    "importance_df.rename(columns = {0: \"Feature Importance\"},inplace = True)\n",
    "importance_sorted = importance_df.sort_values(by=\"Feature Importance\")\n",
    "importance_sorted.plot(kind = \"bar\",title = 'Feature Importance',figsize = (12,8),rot = 360)"
   ]
  },
  {
   "cell_type": "code",
   "execution_count": 90,
   "metadata": {},
   "outputs": [
    {
     "name": "stdout",
     "output_type": "stream",
     "text": [
      "Learning rate: 0.05\n",
      "Root mean squared error is 3.1666925704332245.\n",
      "Learning rate: 0.1\n",
      "Root mean squared error is 0.5653545383480996.\n",
      "Learning rate: 0.25\n",
      "Root mean squared error is 0.007537301505267128.\n",
      "Learning rate: 0.5\n",
      "Root mean squared error is 9.952943807097053e-06.\n",
      "Learning rate: 0.75\n",
      "Root mean squared error is 8.737289105636363e-09.\n",
      "Learning rate: 1\n",
      "Root mean squared error is 3.139172411120472e-11.\n"
     ]
    }
   ],
   "source": [
    "#GradientBoostingRegressor\n",
    "#choose learning rate\n",
    "learning_rates = [0.05,0.1,0.25,0.5,0.75,1]\n",
    "for learning_rate in learning_rates:\n",
    "    model = GradientBoostingRegressor(n_estimators=100,learning_rate = learning_rate,loss= 'ls')\n",
    "    model.fit(X_train,y_train)\n",
    "    print(\"Learning rate:\", learning_rate)\n",
    "    print(f\"Root mean squared error is {mean_squared_error(y_train,model.predict(X_train))}.\")"
   ]
  },
  {
   "cell_type": "code",
   "execution_count": 91,
   "metadata": {},
   "outputs": [],
   "source": [
    "# Learning rate is equal to 0.25\n",
    "model_gb = GradientBoostingRegressor(n_estimators=100,learning_rate= 0.25, loss=\"ls\")\n",
    "model_gb.fit(X_train,y_train)\n",
    "predicted_gb = model_gb.predict(X_test)"
   ]
  },
  {
   "cell_type": "code",
   "execution_count": 92,
   "metadata": {},
   "outputs": [],
   "source": [
    "# GradientBoosting evaluation\n",
    "score_gb = model_rf.score(X_train, y_train, sample_weight=None)\n",
    "r2__gb = r2_score(y_test, predicted_gb)\n",
    "mse_gb = mean_squared_error(y_test\n",
    "                            , predicted_gb)\n",
    "rmse_gb = np.sqrt(mse_gb)"
   ]
  },
  {
   "cell_type": "code",
   "execution_count": 93,
   "metadata": {},
   "outputs": [],
   "source": [
    "gb_reg= pd.DataFrame({'Model Score':score_gb,\"r2 stat\":r2__gb,'MSE':mse_gb,\"Root MSE\": rmse_gb },index=[0]).T\n",
    "gb_reg.columns = ['Metrics for  gradient boosting  regression']"
   ]
  },
  {
   "cell_type": "code",
   "execution_count": 94,
   "metadata": {},
   "outputs": [
    {
     "data": {
      "text/html": [
       "<div>\n",
       "<style scoped>\n",
       "    .dataframe tbody tr th:only-of-type {\n",
       "        vertical-align: middle;\n",
       "    }\n",
       "\n",
       "    .dataframe tbody tr th {\n",
       "        vertical-align: top;\n",
       "    }\n",
       "\n",
       "    .dataframe thead th {\n",
       "        text-align: right;\n",
       "    }\n",
       "</style>\n",
       "<table border=\"1\" class=\"dataframe\">\n",
       "  <thead>\n",
       "    <tr style=\"text-align: right;\">\n",
       "      <th></th>\n",
       "      <th>Metrics for  gradient boosting  regression</th>\n",
       "    </tr>\n",
       "  </thead>\n",
       "  <tbody>\n",
       "    <tr>\n",
       "      <th>Model Score</th>\n",
       "      <td>0.996054</td>\n",
       "    </tr>\n",
       "    <tr>\n",
       "      <th>r2 stat</th>\n",
       "      <td>0.981044</td>\n",
       "    </tr>\n",
       "    <tr>\n",
       "      <th>MSE</th>\n",
       "      <td>57.733270</td>\n",
       "    </tr>\n",
       "    <tr>\n",
       "      <th>Root MSE</th>\n",
       "      <td>7.598241</td>\n",
       "    </tr>\n",
       "  </tbody>\n",
       "</table>\n",
       "</div>"
      ],
      "text/plain": [
       "             Metrics for  gradient boosting  regression\n",
       "Model Score                                    0.996054\n",
       "r2 stat                                        0.981044\n",
       "MSE                                           57.733270\n",
       "Root MSE                                       7.598241"
      ]
     },
     "execution_count": 94,
     "metadata": {},
     "output_type": "execute_result"
    }
   ],
   "source": [
    "gb_reg"
   ]
  },
  {
   "cell_type": "code",
   "execution_count": 95,
   "metadata": {},
   "outputs": [],
   "source": [
    "result = pd.concat([linear_reg,dt_reg,rf_reg,gb_reg],axis = 1 )"
   ]
  },
  {
   "cell_type": "code",
   "execution_count": 96,
   "metadata": {},
   "outputs": [
    {
     "data": {
      "text/html": [
       "<div>\n",
       "<style scoped>\n",
       "    .dataframe tbody tr th:only-of-type {\n",
       "        vertical-align: middle;\n",
       "    }\n",
       "\n",
       "    .dataframe tbody tr th {\n",
       "        vertical-align: top;\n",
       "    }\n",
       "\n",
       "    .dataframe thead th {\n",
       "        text-align: right;\n",
       "    }\n",
       "</style>\n",
       "<table border=\"1\" class=\"dataframe\">\n",
       "  <thead>\n",
       "    <tr style=\"text-align: right;\">\n",
       "      <th></th>\n",
       "      <th>Metrics for linear regression</th>\n",
       "      <th>Metrics for decision tree regression</th>\n",
       "      <th>Metrics for  random forest regression</th>\n",
       "      <th>Metrics for  gradient boosting  regression</th>\n",
       "    </tr>\n",
       "  </thead>\n",
       "  <tbody>\n",
       "    <tr>\n",
       "      <th>Model Score</th>\n",
       "      <td>0.996606</td>\n",
       "      <td>1.000000</td>\n",
       "      <td>0.996054</td>\n",
       "      <td>0.996054</td>\n",
       "    </tr>\n",
       "    <tr>\n",
       "      <th>r2 stat</th>\n",
       "      <td>0.994564</td>\n",
       "      <td>0.966801</td>\n",
       "      <td>0.983223</td>\n",
       "      <td>0.981044</td>\n",
       "    </tr>\n",
       "    <tr>\n",
       "      <th>MSE</th>\n",
       "      <td>16.556221</td>\n",
       "      <td>101.113636</td>\n",
       "      <td>51.096634</td>\n",
       "      <td>57.733270</td>\n",
       "    </tr>\n",
       "    <tr>\n",
       "      <th>Root MSE</th>\n",
       "      <td>4.068934</td>\n",
       "      <td>10.055528</td>\n",
       "      <td>7.148191</td>\n",
       "      <td>7.598241</td>\n",
       "    </tr>\n",
       "  </tbody>\n",
       "</table>\n",
       "</div>"
      ],
      "text/plain": [
       "             Metrics for linear regression  \\\n",
       "Model Score                       0.996606   \n",
       "r2 stat                           0.994564   \n",
       "MSE                              16.556221   \n",
       "Root MSE                          4.068934   \n",
       "\n",
       "             Metrics for decision tree regression  \\\n",
       "Model Score                              1.000000   \n",
       "r2 stat                                  0.966801   \n",
       "MSE                                    101.113636   \n",
       "Root MSE                                10.055528   \n",
       "\n",
       "             Metrics for  random forest regression  \\\n",
       "Model Score                               0.996054   \n",
       "r2 stat                                   0.983223   \n",
       "MSE                                      51.096634   \n",
       "Root MSE                                  7.148191   \n",
       "\n",
       "             Metrics for  gradient boosting  regression  \n",
       "Model Score                                    0.996054  \n",
       "r2 stat                                        0.981044  \n",
       "MSE                                           57.733270  \n",
       "Root MSE                                       7.598241  "
      ]
     },
     "execution_count": 96,
     "metadata": {},
     "output_type": "execute_result"
    }
   ],
   "source": [
    "result"
   ]
  },
  {
   "cell_type": "code",
   "execution_count": null,
   "metadata": {},
   "outputs": [],
   "source": []
  },
  {
   "cell_type": "code",
   "execution_count": null,
   "metadata": {},
   "outputs": [],
   "source": []
  },
  {
   "cell_type": "code",
   "execution_count": null,
   "metadata": {},
   "outputs": [],
   "source": []
  },
  {
   "cell_type": "code",
   "execution_count": null,
   "metadata": {},
   "outputs": [],
   "source": []
  },
  {
   "cell_type": "code",
   "execution_count": null,
   "metadata": {},
   "outputs": [],
   "source": []
  },
  {
   "cell_type": "code",
   "execution_count": null,
   "metadata": {
    "jupyter": {
     "source_hidden": true
    }
   },
   "outputs": [],
   "source": []
  },
  {
   "cell_type": "code",
   "execution_count": 97,
   "metadata": {},
   "outputs": [],
   "source": [
    "eco = X[['UnemploymentRate', 'NY_Empire',\n",
    "       'GDP']]"
   ]
  },
  {
   "cell_type": "code",
   "execution_count": 98,
   "metadata": {},
   "outputs": [
    {
     "data": {
      "text/plain": [
       "<AxesSubplot:>"
      ]
     },
     "execution_count": 98,
     "metadata": {},
     "output_type": "execute_result"
    },
    {
     "data": {
      "image/png": "[encoded data removed]",
      "text/plain": [
       "<Figure size 864x576 with 1 Axes>"
      ]
     },
     "metadata": {
      "needs_background": "light"
     },
     "output_type": "display_data"
    }
   ],
   "source": [
    "vis = pd.concat([eco,y],axis = 1)\n",
    "vis[['UnemploymentRate','Number_of_Incident']].plot(figsize = (12, 8))"
   ]
  },
  {
   "cell_type": "code",
   "execution_count": 99,
   "metadata": {},
   "outputs": [
    {
     "data": {
      "text/plain": [
       "<AxesSubplot:>"
      ]
     },
     "execution_count": 99,
     "metadata": {},
     "output_type": "execute_result"
    },
    {
     "data": {
      "image/png": "[encoded data removed]",
      "text/plain": [
       "<Figure size 864x576 with 1 Axes>"
      ]
     },
     "metadata": {
      "needs_background": "light"
     },
     "output_type": "display_data"
    }
   ],
   "source": [
    "vis[['NY_Empire','Number_of_Incident']].plot(figsize = (12, 8))"
   ]
  },
  {
   "cell_type": "code",
   "execution_count": 100,
   "metadata": {},
   "outputs": [
    {
     "data": {
      "text/plain": [
       "<AxesSubplot:>"
      ]
     },
     "execution_count": 100,
     "metadata": {},
     "output_type": "execute_result"
    },
    {
     "data": {
      "image/png": "[encoded data removed]",
      "text/plain": [
       "<Figure size 864x576 with 1 Axes>"
      ]
     },
     "metadata": {
      "needs_background": "light"
     },
     "output_type": "display_data"
    }
   ],
   "source": [
    "vis[['GDP','Number_of_Incident']].plot(figsize = (12, 8))"
   ]
  },
  {
   "cell_type": "code",
   "execution_count": 101,
   "metadata": {},
   "outputs": [],
   "source": [
    "# Data split \n",
    "from sklearn.model_selection import train_test_split\n",
    "\n",
    "X_train, X_test, y_train, y_test = train_test_split(eco, \n",
    "                                                    y, \n",
    "                                                    random_state=42, test_size = 0.2\n",
    "                                                   )"
   ]
  },
  {
   "cell_type": "code",
   "execution_count": 102,
   "metadata": {},
   "outputs": [],
   "source": [
    "# linear regression \n",
    "from sklearn.linear_model import LinearRegression\n",
    "model_lr = LinearRegression()\n",
    "model_lr.fit(X_train, y_train)\n",
    "predicted_lr = model_lr.predict(X_test)"
   ]
  },
  {
   "cell_type": "code",
   "execution_count": 103,
   "metadata": {},
   "outputs": [],
   "source": [
    "# Linear Regression evaluation\n",
    "from sklearn.metrics import r2_score,mean_squared_error\n",
    "score_lr = model_lr.score(X_train, y_train, sample_weight=None)\n",
    "r2__lr = r2_score(y_test, predicted_lr)\n",
    "mse_lr = mean_squared_error(y_test\n",
    "                            , predicted_lr)\n",
    "rmse_lr = np.sqrt(mse_lr)"
   ]
  },
  {
   "cell_type": "code",
   "execution_count": 104,
   "metadata": {},
   "outputs": [],
   "source": [
    "linear_reg = pd.DataFrame({'Model Score':score_lr,\"r2 stat\":r2__lr,'MSE':mse_lr,\"Root MSE\": rmse_lr },index=[0]).T\n",
    "linear_reg.columns = ['Metrics for linear regression']"
   ]
  },
  {
   "cell_type": "code",
   "execution_count": 105,
   "metadata": {},
   "outputs": [],
   "source": [
    "linear_reg = pd.DataFrame({'Model Score':score_lr,\"r2 stat\":r2__lr,'MSE':mse_lr,\"Root MSE\": rmse_lr },index=[0]).T\n",
    "linear_reg.columns = ['Metrics for linear regression']"
   ]
  },
  {
   "cell_type": "code",
   "execution_count": 106,
   "metadata": {},
   "outputs": [
    {
     "data": {
      "text/html": [
       "<div>\n",
       "<style scoped>\n",
       "    .dataframe tbody tr th:only-of-type {\n",
       "        vertical-align: middle;\n",
       "    }\n",
       "\n",
       "    .dataframe tbody tr th {\n",
       "        vertical-align: top;\n",
       "    }\n",
       "\n",
       "    .dataframe thead th {\n",
       "        text-align: right;\n",
       "    }\n",
       "</style>\n",
       "<table border=\"1\" class=\"dataframe\">\n",
       "  <thead>\n",
       "    <tr style=\"text-align: right;\">\n",
       "      <th></th>\n",
       "      <th>Metrics for linear regression</th>\n",
       "    </tr>\n",
       "  </thead>\n",
       "  <tbody>\n",
       "    <tr>\n",
       "      <th>Model Score</th>\n",
       "      <td>0.230394</td>\n",
       "    </tr>\n",
       "    <tr>\n",
       "      <th>r2 stat</th>\n",
       "      <td>-0.276876</td>\n",
       "    </tr>\n",
       "    <tr>\n",
       "      <th>MSE</th>\n",
       "      <td>3768.778836</td>\n",
       "    </tr>\n",
       "    <tr>\n",
       "      <th>Root MSE</th>\n",
       "      <td>61.390381</td>\n",
       "    </tr>\n",
       "  </tbody>\n",
       "</table>\n",
       "</div>"
      ],
      "text/plain": [
       "             Metrics for linear regression\n",
       "Model Score                       0.230394\n",
       "r2 stat                          -0.276876\n",
       "MSE                            3768.778836\n",
       "Root MSE                         61.390381"
      ]
     },
     "execution_count": 106,
     "metadata": {},
     "output_type": "execute_result"
    }
   ],
   "source": [
    "linear_reg"
   ]
  },
  {
   "cell_type": "code",
   "execution_count": null,
   "metadata": {
    "collapsed": true,
    "jupyter": {
     "outputs_hidden": true,
     "source_hidden": true
    }
   },
   "outputs": [],
   "source": []
  },
  {
   "cell_type": "code",
   "execution_count": 107,
   "metadata": {},
   "outputs": [],
   "source": [
    "#Decision Tree Regression\n",
    "model_dt = DecisionTreeRegressor(criterion='mse',splitter=\"best\")\n",
    "model_dt.fit(X_train,y_train)\n",
    "predicted_dt = model_dt.predict(X_test)\n",
    "\n",
    "# Decision Tree evaluation\n",
    "score_dt = model_dt.score(X_train, y_train, sample_weight=None)\n",
    "r2__dt = r2_score(y_test, predicted_dt)\n",
    "mse_dt = mean_squared_error(y_test\n",
    "                            , predicted_dt)\n",
    "rmse_dt = np.sqrt(mse_dt)\n",
    "dt_reg = pd.DataFrame({'Model Score':score_dt,\"r2 stat\":r2__dt,'MSE':mse_dt,\"Root MSE\": rmse_dt },index=[0]).T\n",
    "dt_reg.columns = ['Metrics for decision tree regression']"
   ]
  },
  {
   "cell_type": "code",
   "execution_count": 111,
   "metadata": {},
   "outputs": [],
   "source": [
    "#Random Forest Regression\n",
    "model_rf = RandomForestRegressor(n_estimators= 100, criterion= \"mse\")\n",
    "model_rf.fit(X_train,y_train)\n",
    "predicted_rf= model_rf.predict(X_test)\n",
    "\n",
    "# Random forest evaluation\n",
    "score_rf = model_rf.score(X_train, y_train, sample_weight=None)\n",
    "r2__rf = r2_score(y_test, predicted_rf)\n",
    "mse_rf = mean_squared_error(y_test\n",
    "                            , predicted_rf)\n",
    "rmse_rf = np.sqrt(mse_rf)\n",
    "rf_reg = pd.DataFrame({'Model Score':score_rf,\"r2 stat\":r2__rf,'MSE':mse_rf,\"Root MSE\": rmse_rf },index=[0]).T\n",
    "rf_reg.columns = ['Metrics for  random forest regression']"
   ]
  },
  {
   "cell_type": "code",
   "execution_count": 114,
   "metadata": {},
   "outputs": [
    {
     "data": {
      "text/plain": [
       "<AxesSubplot:title={'center':'Feature Importance'}, xlabel='1'>"
      ]
     },
     "execution_count": 114,
     "metadata": {},
     "output_type": "execute_result"
    },
    {
     "data": {
      "image/png": "[encoded data removed]",
      "text/plain": [
       "<Figure size 864x576 with 1 Axes>"
      ]
     },
     "metadata": {
      "needs_background": "light"
     },
     "output_type": "display_data"
    }
   ],
   "source": [
    "#feature importance\n",
    "importance_df = pd.DataFrame(sorted(zip(model_rf.feature_importances_,X_train.columns),reverse = True))\n",
    "importance_df.set_index(importance_df[1],inplace = True)\n",
    "importance_df.drop(columns = 1,inplace = True)\n",
    "importance_df.rename(columns = {0: \"Feature Importance\"},inplace = True)\n",
    "importance_sorted = importance_df.sort_values(by=\"Feature Importance\")\n",
    "importance_sorted.plot(kind = \"bar\",title = 'Feature Importance',figsize = (12,8),rot = 360)"
   ]
  },
  {
   "cell_type": "code",
   "execution_count": 112,
   "metadata": {},
   "outputs": [],
   "source": [
    "result = pd.concat([linear_reg,dt_reg,rf_reg],axis = 1 )"
   ]
  },
  {
   "cell_type": "code",
   "execution_count": 113,
   "metadata": {},
   "outputs": [
    {
     "data": {
      "text/html": [
       "<div>\n",
       "<style scoped>\n",
       "    .dataframe tbody tr th:only-of-type {\n",
       "        vertical-align: middle;\n",
       "    }\n",
       "\n",
       "    .dataframe tbody tr th {\n",
       "        vertical-align: top;\n",
       "    }\n",
       "\n",
       "    .dataframe thead th {\n",
       "        text-align: right;\n",
       "    }\n",
       "</style>\n",
       "<table border=\"1\" class=\"dataframe\">\n",
       "  <thead>\n",
       "    <tr style=\"text-align: right;\">\n",
       "      <th></th>\n",
       "      <th>Metrics for linear regression</th>\n",
       "      <th>Metrics for decision tree regression</th>\n",
       "      <th>Metrics for  random forest regression</th>\n",
       "    </tr>\n",
       "  </thead>\n",
       "  <tbody>\n",
       "    <tr>\n",
       "      <th>Model Score</th>\n",
       "      <td>0.230394</td>\n",
       "      <td>0.999452</td>\n",
       "      <td>0.903018</td>\n",
       "    </tr>\n",
       "    <tr>\n",
       "      <th>r2 stat</th>\n",
       "      <td>-0.276876</td>\n",
       "      <td>-0.171273</td>\n",
       "      <td>0.195040</td>\n",
       "    </tr>\n",
       "    <tr>\n",
       "      <th>MSE</th>\n",
       "      <td>3768.778836</td>\n",
       "      <td>3457.085714</td>\n",
       "      <td>2375.890473</td>\n",
       "    </tr>\n",
       "    <tr>\n",
       "      <th>Root MSE</th>\n",
       "      <td>61.390381</td>\n",
       "      <td>58.796987</td>\n",
       "      <td>48.743107</td>\n",
       "    </tr>\n",
       "  </tbody>\n",
       "</table>\n",
       "</div>"
      ],
      "text/plain": [
       "             Metrics for linear regression  \\\n",
       "Model Score                       0.230394   \n",
       "r2 stat                          -0.276876   \n",
       "MSE                            3768.778836   \n",
       "Root MSE                         61.390381   \n",
       "\n",
       "             Metrics for decision tree regression  \\\n",
       "Model Score                              0.999452   \n",
       "r2 stat                                 -0.171273   \n",
       "MSE                                   3457.085714   \n",
       "Root MSE                                58.796987   \n",
       "\n",
       "             Metrics for  random forest regression  \n",
       "Model Score                               0.903018  \n",
       "r2 stat                                   0.195040  \n",
       "MSE                                    2375.890473  \n",
       "Root MSE                                 48.743107  "
      ]
     },
     "execution_count": 113,
     "metadata": {},
     "output_type": "execute_result"
    }
   ],
   "source": [
    "result"
   ]
  },
  {
   "cell_type": "code",
   "execution_count": null,
   "metadata": {},
   "outputs": [],
   "source": []
  },
  {
   "cell_type": "code",
   "execution_count": null,
   "metadata": {},
   "outputs": [],
   "source": []
  },
  {
   "cell_type": "code",
   "execution_count": null,
   "metadata": {},
   "outputs": [],
   "source": []
  },
  {
   "cell_type": "code",
   "execution_count": null,
   "metadata": {},
   "outputs": [],
   "source": []
  },
  {
   "cell_type": "code",
   "execution_count": null,
   "metadata": {},
   "outputs": [],
   "source": []
  },
  {
   "cell_type": "code",
   "execution_count": null,
   "metadata": {},
   "outputs": [],
   "source": []
  },
  {
   "cell_type": "code",
   "execution_count": null,
   "metadata": {},
   "outputs": [],
   "source": []
  },
  {
   "cell_type": "code",
   "execution_count": null,
   "metadata": {},
   "outputs": [],
   "source": []
  },
  {
   "cell_type": "code",
   "execution_count": null,
   "metadata": {},
   "outputs": [],
   "source": []
  },
  {
   "cell_type": "code",
   "execution_count": null,
   "metadata": {},
   "outputs": [],
   "source": []
  }
 ],
 "metadata": {
  "kernelspec": {
   "display_name": "Python [conda env:pyvizenv] *",
   "language": "python",
   "name": "conda-env-pyvizenv-py"
  },
  "language_info": {
   "codemirror_mode": {
    "name": "ipython",
    "version": 3
   },
   "file_extension": ".py",
   "mimetype": "text/x-python",
   "name": "python",
   "nbconvert_exporter": "python",
   "pygments_lexer": "ipython3",
   "version": "3.7.7"
  }
 },
 "nbformat": 4,
 "nbformat_minor": 4
}
